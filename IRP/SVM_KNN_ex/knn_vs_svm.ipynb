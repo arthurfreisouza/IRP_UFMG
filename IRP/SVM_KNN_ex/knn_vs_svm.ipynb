{
 "cells": [
  {
   "cell_type": "code",
   "execution_count": 1,
   "id": "c11a2bb3-b604-4e7f-a321-7a427bee6909",
   "metadata": {},
   "outputs": [],
   "source": [
    "import warnings\n",
    "import random\n",
    "import math\n",
    "import numpy as np\n",
    "import pandas as pd\n",
    "import matplotlib.pyplot as plt\n",
    "from sklearn.metrics import accuracy_score\n",
    "pd.set_option('future.no_silent_downcasting', True)\n",
    "warnings.filterwarnings(\"ignore\", category=UserWarning)"
   ]
  },
  {
   "cell_type": "code",
   "execution_count": 2,
   "id": "84a8d3eb-d4c8-452f-9213-4b1f778867ef",
   "metadata": {},
   "outputs": [
    {
     "ename": "FileNotFoundError",
     "evalue": "[Errno 2] No such file or directory: 'wdbc.data'",
     "output_type": "error",
     "traceback": [
      "\u001b[0;31m---------------------------------------------------------------------------\u001b[0m",
      "\u001b[0;31mFileNotFoundError\u001b[0m                         Traceback (most recent call last)",
      "Cell \u001b[0;32mIn[2], line 1\u001b[0m\n\u001b[0;32m----> 1\u001b[0m df \u001b[38;5;241m=\u001b[39m \u001b[43mpd\u001b[49m\u001b[38;5;241;43m.\u001b[39;49m\u001b[43mread_csv\u001b[49m\u001b[43m(\u001b[49m\u001b[38;5;124;43m\"\u001b[39;49m\u001b[38;5;124;43mwdbc.data\u001b[39;49m\u001b[38;5;124;43m\"\u001b[39;49m\u001b[43m)\u001b[49m\n\u001b[1;32m      2\u001b[0m column_names \u001b[38;5;241m=\u001b[39m [\n\u001b[1;32m      3\u001b[0m     \u001b[38;5;124m\"\u001b[39m\u001b[38;5;124mID\u001b[39m\u001b[38;5;124m\"\u001b[39m, \u001b[38;5;124m\"\u001b[39m\u001b[38;5;124mDiagnosis\u001b[39m\u001b[38;5;124m\"\u001b[39m, \u001b[38;5;124m\"\u001b[39m\u001b[38;5;124mradius1\u001b[39m\u001b[38;5;124m\"\u001b[39m, \u001b[38;5;124m\"\u001b[39m\u001b[38;5;124mtexture1\u001b[39m\u001b[38;5;124m\"\u001b[39m, \u001b[38;5;124m\"\u001b[39m\u001b[38;5;124mperimeter1\u001b[39m\u001b[38;5;124m\"\u001b[39m, \u001b[38;5;124m\"\u001b[39m\u001b[38;5;124marea1\u001b[39m\u001b[38;5;124m\"\u001b[39m, \u001b[38;5;124m\"\u001b[39m\u001b[38;5;124msmoothness1\u001b[39m\u001b[38;5;124m\"\u001b[39m, \u001b[38;5;124m\"\u001b[39m\u001b[38;5;124mcompactness1\u001b[39m\u001b[38;5;124m\"\u001b[39m, \n\u001b[1;32m      4\u001b[0m     \u001b[38;5;124m\"\u001b[39m\u001b[38;5;124mconcavity1\u001b[39m\u001b[38;5;124m\"\u001b[39m, \u001b[38;5;124m\"\u001b[39m\u001b[38;5;124mconcave_points1\u001b[39m\u001b[38;5;124m\"\u001b[39m, \u001b[38;5;124m\"\u001b[39m\u001b[38;5;124msymmetry1\u001b[39m\u001b[38;5;124m\"\u001b[39m, \u001b[38;5;124m\"\u001b[39m\u001b[38;5;124mfractal_dimension1\u001b[39m\u001b[38;5;124m\"\u001b[39m, \n\u001b[0;32m   (...)\u001b[0m\n\u001b[1;32m      8\u001b[0m     \u001b[38;5;124m\"\u001b[39m\u001b[38;5;124mconcavity3\u001b[39m\u001b[38;5;124m\"\u001b[39m, \u001b[38;5;124m\"\u001b[39m\u001b[38;5;124mconcave_points3\u001b[39m\u001b[38;5;124m\"\u001b[39m, \u001b[38;5;124m\"\u001b[39m\u001b[38;5;124msymmetry3\u001b[39m\u001b[38;5;124m\"\u001b[39m, \u001b[38;5;124m\"\u001b[39m\u001b[38;5;124mfractal_dimension3\u001b[39m\u001b[38;5;124m\"\u001b[39m\n\u001b[1;32m      9\u001b[0m ]\n\u001b[1;32m     10\u001b[0m df\u001b[38;5;241m.\u001b[39mcolumns \u001b[38;5;241m=\u001b[39m column_names\n",
      "File \u001b[0;32m~/Desktop/DL/myenv/lib/python3.12/site-packages/pandas/io/parsers/readers.py:1026\u001b[0m, in \u001b[0;36mread_csv\u001b[0;34m(filepath_or_buffer, sep, delimiter, header, names, index_col, usecols, dtype, engine, converters, true_values, false_values, skipinitialspace, skiprows, skipfooter, nrows, na_values, keep_default_na, na_filter, verbose, skip_blank_lines, parse_dates, infer_datetime_format, keep_date_col, date_parser, date_format, dayfirst, cache_dates, iterator, chunksize, compression, thousands, decimal, lineterminator, quotechar, quoting, doublequote, escapechar, comment, encoding, encoding_errors, dialect, on_bad_lines, delim_whitespace, low_memory, memory_map, float_precision, storage_options, dtype_backend)\u001b[0m\n\u001b[1;32m   1013\u001b[0m kwds_defaults \u001b[38;5;241m=\u001b[39m _refine_defaults_read(\n\u001b[1;32m   1014\u001b[0m     dialect,\n\u001b[1;32m   1015\u001b[0m     delimiter,\n\u001b[0;32m   (...)\u001b[0m\n\u001b[1;32m   1022\u001b[0m     dtype_backend\u001b[38;5;241m=\u001b[39mdtype_backend,\n\u001b[1;32m   1023\u001b[0m )\n\u001b[1;32m   1024\u001b[0m kwds\u001b[38;5;241m.\u001b[39mupdate(kwds_defaults)\n\u001b[0;32m-> 1026\u001b[0m \u001b[38;5;28;01mreturn\u001b[39;00m \u001b[43m_read\u001b[49m\u001b[43m(\u001b[49m\u001b[43mfilepath_or_buffer\u001b[49m\u001b[43m,\u001b[49m\u001b[43m \u001b[49m\u001b[43mkwds\u001b[49m\u001b[43m)\u001b[49m\n",
      "File \u001b[0;32m~/Desktop/DL/myenv/lib/python3.12/site-packages/pandas/io/parsers/readers.py:620\u001b[0m, in \u001b[0;36m_read\u001b[0;34m(filepath_or_buffer, kwds)\u001b[0m\n\u001b[1;32m    617\u001b[0m _validate_names(kwds\u001b[38;5;241m.\u001b[39mget(\u001b[38;5;124m\"\u001b[39m\u001b[38;5;124mnames\u001b[39m\u001b[38;5;124m\"\u001b[39m, \u001b[38;5;28;01mNone\u001b[39;00m))\n\u001b[1;32m    619\u001b[0m \u001b[38;5;66;03m# Create the parser.\u001b[39;00m\n\u001b[0;32m--> 620\u001b[0m parser \u001b[38;5;241m=\u001b[39m \u001b[43mTextFileReader\u001b[49m\u001b[43m(\u001b[49m\u001b[43mfilepath_or_buffer\u001b[49m\u001b[43m,\u001b[49m\u001b[43m \u001b[49m\u001b[38;5;241;43m*\u001b[39;49m\u001b[38;5;241;43m*\u001b[39;49m\u001b[43mkwds\u001b[49m\u001b[43m)\u001b[49m\n\u001b[1;32m    622\u001b[0m \u001b[38;5;28;01mif\u001b[39;00m chunksize \u001b[38;5;129;01mor\u001b[39;00m iterator:\n\u001b[1;32m    623\u001b[0m     \u001b[38;5;28;01mreturn\u001b[39;00m parser\n",
      "File \u001b[0;32m~/Desktop/DL/myenv/lib/python3.12/site-packages/pandas/io/parsers/readers.py:1620\u001b[0m, in \u001b[0;36mTextFileReader.__init__\u001b[0;34m(self, f, engine, **kwds)\u001b[0m\n\u001b[1;32m   1617\u001b[0m     \u001b[38;5;28mself\u001b[39m\u001b[38;5;241m.\u001b[39moptions[\u001b[38;5;124m\"\u001b[39m\u001b[38;5;124mhas_index_names\u001b[39m\u001b[38;5;124m\"\u001b[39m] \u001b[38;5;241m=\u001b[39m kwds[\u001b[38;5;124m\"\u001b[39m\u001b[38;5;124mhas_index_names\u001b[39m\u001b[38;5;124m\"\u001b[39m]\n\u001b[1;32m   1619\u001b[0m \u001b[38;5;28mself\u001b[39m\u001b[38;5;241m.\u001b[39mhandles: IOHandles \u001b[38;5;241m|\u001b[39m \u001b[38;5;28;01mNone\u001b[39;00m \u001b[38;5;241m=\u001b[39m \u001b[38;5;28;01mNone\u001b[39;00m\n\u001b[0;32m-> 1620\u001b[0m \u001b[38;5;28mself\u001b[39m\u001b[38;5;241m.\u001b[39m_engine \u001b[38;5;241m=\u001b[39m \u001b[38;5;28;43mself\u001b[39;49m\u001b[38;5;241;43m.\u001b[39;49m\u001b[43m_make_engine\u001b[49m\u001b[43m(\u001b[49m\u001b[43mf\u001b[49m\u001b[43m,\u001b[49m\u001b[43m \u001b[49m\u001b[38;5;28;43mself\u001b[39;49m\u001b[38;5;241;43m.\u001b[39;49m\u001b[43mengine\u001b[49m\u001b[43m)\u001b[49m\n",
      "File \u001b[0;32m~/Desktop/DL/myenv/lib/python3.12/site-packages/pandas/io/parsers/readers.py:1880\u001b[0m, in \u001b[0;36mTextFileReader._make_engine\u001b[0;34m(self, f, engine)\u001b[0m\n\u001b[1;32m   1878\u001b[0m     \u001b[38;5;28;01mif\u001b[39;00m \u001b[38;5;124m\"\u001b[39m\u001b[38;5;124mb\u001b[39m\u001b[38;5;124m\"\u001b[39m \u001b[38;5;129;01mnot\u001b[39;00m \u001b[38;5;129;01min\u001b[39;00m mode:\n\u001b[1;32m   1879\u001b[0m         mode \u001b[38;5;241m+\u001b[39m\u001b[38;5;241m=\u001b[39m \u001b[38;5;124m\"\u001b[39m\u001b[38;5;124mb\u001b[39m\u001b[38;5;124m\"\u001b[39m\n\u001b[0;32m-> 1880\u001b[0m \u001b[38;5;28mself\u001b[39m\u001b[38;5;241m.\u001b[39mhandles \u001b[38;5;241m=\u001b[39m \u001b[43mget_handle\u001b[49m\u001b[43m(\u001b[49m\n\u001b[1;32m   1881\u001b[0m \u001b[43m    \u001b[49m\u001b[43mf\u001b[49m\u001b[43m,\u001b[49m\n\u001b[1;32m   1882\u001b[0m \u001b[43m    \u001b[49m\u001b[43mmode\u001b[49m\u001b[43m,\u001b[49m\n\u001b[1;32m   1883\u001b[0m \u001b[43m    \u001b[49m\u001b[43mencoding\u001b[49m\u001b[38;5;241;43m=\u001b[39;49m\u001b[38;5;28;43mself\u001b[39;49m\u001b[38;5;241;43m.\u001b[39;49m\u001b[43moptions\u001b[49m\u001b[38;5;241;43m.\u001b[39;49m\u001b[43mget\u001b[49m\u001b[43m(\u001b[49m\u001b[38;5;124;43m\"\u001b[39;49m\u001b[38;5;124;43mencoding\u001b[39;49m\u001b[38;5;124;43m\"\u001b[39;49m\u001b[43m,\u001b[49m\u001b[43m \u001b[49m\u001b[38;5;28;43;01mNone\u001b[39;49;00m\u001b[43m)\u001b[49m\u001b[43m,\u001b[49m\n\u001b[1;32m   1884\u001b[0m \u001b[43m    \u001b[49m\u001b[43mcompression\u001b[49m\u001b[38;5;241;43m=\u001b[39;49m\u001b[38;5;28;43mself\u001b[39;49m\u001b[38;5;241;43m.\u001b[39;49m\u001b[43moptions\u001b[49m\u001b[38;5;241;43m.\u001b[39;49m\u001b[43mget\u001b[49m\u001b[43m(\u001b[49m\u001b[38;5;124;43m\"\u001b[39;49m\u001b[38;5;124;43mcompression\u001b[39;49m\u001b[38;5;124;43m\"\u001b[39;49m\u001b[43m,\u001b[49m\u001b[43m \u001b[49m\u001b[38;5;28;43;01mNone\u001b[39;49;00m\u001b[43m)\u001b[49m\u001b[43m,\u001b[49m\n\u001b[1;32m   1885\u001b[0m \u001b[43m    \u001b[49m\u001b[43mmemory_map\u001b[49m\u001b[38;5;241;43m=\u001b[39;49m\u001b[38;5;28;43mself\u001b[39;49m\u001b[38;5;241;43m.\u001b[39;49m\u001b[43moptions\u001b[49m\u001b[38;5;241;43m.\u001b[39;49m\u001b[43mget\u001b[49m\u001b[43m(\u001b[49m\u001b[38;5;124;43m\"\u001b[39;49m\u001b[38;5;124;43mmemory_map\u001b[39;49m\u001b[38;5;124;43m\"\u001b[39;49m\u001b[43m,\u001b[49m\u001b[43m \u001b[49m\u001b[38;5;28;43;01mFalse\u001b[39;49;00m\u001b[43m)\u001b[49m\u001b[43m,\u001b[49m\n\u001b[1;32m   1886\u001b[0m \u001b[43m    \u001b[49m\u001b[43mis_text\u001b[49m\u001b[38;5;241;43m=\u001b[39;49m\u001b[43mis_text\u001b[49m\u001b[43m,\u001b[49m\n\u001b[1;32m   1887\u001b[0m \u001b[43m    \u001b[49m\u001b[43merrors\u001b[49m\u001b[38;5;241;43m=\u001b[39;49m\u001b[38;5;28;43mself\u001b[39;49m\u001b[38;5;241;43m.\u001b[39;49m\u001b[43moptions\u001b[49m\u001b[38;5;241;43m.\u001b[39;49m\u001b[43mget\u001b[49m\u001b[43m(\u001b[49m\u001b[38;5;124;43m\"\u001b[39;49m\u001b[38;5;124;43mencoding_errors\u001b[39;49m\u001b[38;5;124;43m\"\u001b[39;49m\u001b[43m,\u001b[49m\u001b[43m \u001b[49m\u001b[38;5;124;43m\"\u001b[39;49m\u001b[38;5;124;43mstrict\u001b[39;49m\u001b[38;5;124;43m\"\u001b[39;49m\u001b[43m)\u001b[49m\u001b[43m,\u001b[49m\n\u001b[1;32m   1888\u001b[0m \u001b[43m    \u001b[49m\u001b[43mstorage_options\u001b[49m\u001b[38;5;241;43m=\u001b[39;49m\u001b[38;5;28;43mself\u001b[39;49m\u001b[38;5;241;43m.\u001b[39;49m\u001b[43moptions\u001b[49m\u001b[38;5;241;43m.\u001b[39;49m\u001b[43mget\u001b[49m\u001b[43m(\u001b[49m\u001b[38;5;124;43m\"\u001b[39;49m\u001b[38;5;124;43mstorage_options\u001b[39;49m\u001b[38;5;124;43m\"\u001b[39;49m\u001b[43m,\u001b[49m\u001b[43m \u001b[49m\u001b[38;5;28;43;01mNone\u001b[39;49;00m\u001b[43m)\u001b[49m\u001b[43m,\u001b[49m\n\u001b[1;32m   1889\u001b[0m \u001b[43m\u001b[49m\u001b[43m)\u001b[49m\n\u001b[1;32m   1890\u001b[0m \u001b[38;5;28;01massert\u001b[39;00m \u001b[38;5;28mself\u001b[39m\u001b[38;5;241m.\u001b[39mhandles \u001b[38;5;129;01mis\u001b[39;00m \u001b[38;5;129;01mnot\u001b[39;00m \u001b[38;5;28;01mNone\u001b[39;00m\n\u001b[1;32m   1891\u001b[0m f \u001b[38;5;241m=\u001b[39m \u001b[38;5;28mself\u001b[39m\u001b[38;5;241m.\u001b[39mhandles\u001b[38;5;241m.\u001b[39mhandle\n",
      "File \u001b[0;32m~/Desktop/DL/myenv/lib/python3.12/site-packages/pandas/io/common.py:873\u001b[0m, in \u001b[0;36mget_handle\u001b[0;34m(path_or_buf, mode, encoding, compression, memory_map, is_text, errors, storage_options)\u001b[0m\n\u001b[1;32m    868\u001b[0m \u001b[38;5;28;01melif\u001b[39;00m \u001b[38;5;28misinstance\u001b[39m(handle, \u001b[38;5;28mstr\u001b[39m):\n\u001b[1;32m    869\u001b[0m     \u001b[38;5;66;03m# Check whether the filename is to be opened in binary mode.\u001b[39;00m\n\u001b[1;32m    870\u001b[0m     \u001b[38;5;66;03m# Binary mode does not support 'encoding' and 'newline'.\u001b[39;00m\n\u001b[1;32m    871\u001b[0m     \u001b[38;5;28;01mif\u001b[39;00m ioargs\u001b[38;5;241m.\u001b[39mencoding \u001b[38;5;129;01mand\u001b[39;00m \u001b[38;5;124m\"\u001b[39m\u001b[38;5;124mb\u001b[39m\u001b[38;5;124m\"\u001b[39m \u001b[38;5;129;01mnot\u001b[39;00m \u001b[38;5;129;01min\u001b[39;00m ioargs\u001b[38;5;241m.\u001b[39mmode:\n\u001b[1;32m    872\u001b[0m         \u001b[38;5;66;03m# Encoding\u001b[39;00m\n\u001b[0;32m--> 873\u001b[0m         handle \u001b[38;5;241m=\u001b[39m \u001b[38;5;28;43mopen\u001b[39;49m\u001b[43m(\u001b[49m\n\u001b[1;32m    874\u001b[0m \u001b[43m            \u001b[49m\u001b[43mhandle\u001b[49m\u001b[43m,\u001b[49m\n\u001b[1;32m    875\u001b[0m \u001b[43m            \u001b[49m\u001b[43mioargs\u001b[49m\u001b[38;5;241;43m.\u001b[39;49m\u001b[43mmode\u001b[49m\u001b[43m,\u001b[49m\n\u001b[1;32m    876\u001b[0m \u001b[43m            \u001b[49m\u001b[43mencoding\u001b[49m\u001b[38;5;241;43m=\u001b[39;49m\u001b[43mioargs\u001b[49m\u001b[38;5;241;43m.\u001b[39;49m\u001b[43mencoding\u001b[49m\u001b[43m,\u001b[49m\n\u001b[1;32m    877\u001b[0m \u001b[43m            \u001b[49m\u001b[43merrors\u001b[49m\u001b[38;5;241;43m=\u001b[39;49m\u001b[43merrors\u001b[49m\u001b[43m,\u001b[49m\n\u001b[1;32m    878\u001b[0m \u001b[43m            \u001b[49m\u001b[43mnewline\u001b[49m\u001b[38;5;241;43m=\u001b[39;49m\u001b[38;5;124;43m\"\u001b[39;49m\u001b[38;5;124;43m\"\u001b[39;49m\u001b[43m,\u001b[49m\n\u001b[1;32m    879\u001b[0m \u001b[43m        \u001b[49m\u001b[43m)\u001b[49m\n\u001b[1;32m    880\u001b[0m     \u001b[38;5;28;01melse\u001b[39;00m:\n\u001b[1;32m    881\u001b[0m         \u001b[38;5;66;03m# Binary mode\u001b[39;00m\n\u001b[1;32m    882\u001b[0m         handle \u001b[38;5;241m=\u001b[39m \u001b[38;5;28mopen\u001b[39m(handle, ioargs\u001b[38;5;241m.\u001b[39mmode)\n",
      "\u001b[0;31mFileNotFoundError\u001b[0m: [Errno 2] No such file or directory: 'wdbc.data'"
     ]
    }
   ],
   "source": [
    "df = pd.read_csv(\"wdbc.data\")\n",
    "column_names = [\n",
    "    \"ID\", \"Diagnosis\", \"radius1\", \"texture1\", \"perimeter1\", \"area1\", \"smoothness1\", \"compactness1\", \n",
    "    \"concavity1\", \"concave_points1\", \"symmetry1\", \"fractal_dimension1\", \n",
    "    \"radius2\", \"texture2\", \"perimeter2\", \"area2\", \"smoothness2\", \"compactness2\", \n",
    "    \"concavity2\", \"concave_points2\", \"symmetry2\", \"fractal_dimension2\", \n",
    "    \"radius3\", \"texture3\", \"perimeter3\", \"area3\", \"smoothness3\", \"compactness3\", \n",
    "    \"concavity3\", \"concave_points3\", \"symmetry3\", \"fractal_dimension3\"\n",
    "]\n",
    "df.columns = column_names\n",
    "df.head()"
   ]
  },
  {
   "cell_type": "code",
   "execution_count": null,
   "id": "adca65e1-b91d-4326-9b06-293269ec91f9",
   "metadata": {},
   "outputs": [],
   "source": [
    "df.drop([\"ID\"], axis = 1, inplace = True)"
   ]
  },
  {
   "cell_type": "code",
   "execution_count": null,
   "id": "984339f9-6c3b-4fb5-9473-b0210d9d0b70",
   "metadata": {},
   "outputs": [],
   "source": [
    "print(f\"The dataframe consists of {df.shape[0]} rows and {df.shape[1]} columns.\")"
   ]
  },
  {
   "cell_type": "code",
   "execution_count": null,
   "id": "83516aac-caf6-4783-8fc1-2e8d50c82a40",
   "metadata": {},
   "outputs": [],
   "source": [
    "df.info()"
   ]
  },
  {
   "cell_type": "code",
   "execution_count": null,
   "id": "fa270e9f-1960-41b2-b5be-6a6d0613777f",
   "metadata": {},
   "outputs": [],
   "source": [
    "df.describe()"
   ]
  },
  {
   "cell_type": "code",
   "execution_count": null,
   "id": "e713806e-b060-4f88-a3ca-e8ab4ad86783",
   "metadata": {},
   "outputs": [],
   "source": [
    "df[\"Diagnosis\"] = df[\"Diagnosis\"].replace({\"M\": 1, \"B\": -1}) # Tumor Maligno = 1, Tumor Benigno = -1"
   ]
  },
  {
   "cell_type": "code",
   "execution_count": null,
   "id": "8686c013-3776-4104-b94b-de1015fa7d69",
   "metadata": {},
   "outputs": [],
   "source": [
    "df[\"Diagnosis\"].value_counts()"
   ]
  },
  {
   "cell_type": "markdown",
   "id": "0aeb916e-8ab8-41e2-b111-7cc60daae458",
   "metadata": {},
   "source": [
    "##### As we can see, in the dataset there are 211 bad cases and 357 good cases."
   ]
  },
  {
   "cell_type": "code",
   "execution_count": null,
   "id": "90dbce4f-facd-4403-8f13-b0b2d299d4ed",
   "metadata": {},
   "outputs": [],
   "source": [
    "import seaborn as sns\n",
    "corr_matrix = df.corr()\n",
    "\n",
    "plt.figure(figsize = (20, 8))\n",
    "sns.heatmap(corr_matrix, annot = True)\n",
    "plt.plot()"
   ]
  },
  {
   "cell_type": "code",
   "execution_count": null,
   "id": "5cc036f3-cfe7-4b39-b8d1-b393e07c38ee",
   "metadata": {},
   "outputs": [],
   "source": [
    "def remove_high_corr(corr_matrix, threshold):\n",
    "    pos = []\n",
    "    columns = corr_matrix.columns\n",
    "    \n",
    "    for i in range(corr_matrix.shape[0]):\n",
    "        for j in range(i + 1, corr_matrix.shape[1]):\n",
    "            if np.abs(corr_matrix.iloc[i, j]) >= threshold :\n",
    "                pos.append((columns[i], columns[j], corr_matrix.iloc[i, j]))\n",
    "    return pos\n",
    "\n",
    "high_corr_col = remove_high_corr(corr_matrix = corr_matrix, threshold = 0.95)"
   ]
  },
  {
   "cell_type": "code",
   "execution_count": null,
   "id": "00b3893c-0246-4e2f-accb-addd145e3bf3",
   "metadata": {},
   "outputs": [],
   "source": [
    "for c1, c2, val in high_corr_col:\n",
    "    print(f\"The columns {c1} and {c2} has a high correlation of : {round(val, 3)}.\")"
   ]
  },
  {
   "cell_type": "code",
   "execution_count": null,
   "id": "030126d8-dfac-4809-8dea-d43bfbae75ec",
   "metadata": {},
   "outputs": [],
   "source": [
    "def label_corr(corr_matrix, threshold):\n",
    "    pos = []\n",
    "    columns  = corr_matrix.columns\n",
    "    label_col = corr_matrix.columns.get_loc(\"Diagnosis\")\n",
    "    for i in range(corr_matrix.shape[0]):\n",
    "        if (np.abs(corr_matrix.iloc[i, label_col]) >= threshold)  and (i != label_col):\n",
    "           pos.append((columns[i], corr_matrix.iloc[i, label_col]))\n",
    "    return pos\n",
    "\n",
    "label_high = label_corr(corr_matrix = corr_matrix, threshold = 0.75)\n",
    "\n",
    "for c1, val in label_high:\n",
    "    print(f\"The column {c1} has a big correlation with the label of {round(val, 3)}\")"
   ]
  },
  {
   "cell_type": "code",
   "execution_count": null,
   "id": "eca9eff8-c35e-4fe9-a2cc-414c9b54235e",
   "metadata": {},
   "outputs": [],
   "source": [
    "# Randomizing my model.\n",
    "\n",
    "df = df.sample(frac = 1).reset_index(drop = True)\n",
    "df"
   ]
  },
  {
   "cell_type": "markdown",
   "id": "372b77ef-ae84-4093-b815-ce5ed306e4ff",
   "metadata": {},
   "source": [
    "# SVM CODE USING SKLEARN :"
   ]
  },
  {
   "cell_type": "code",
   "execution_count": null,
   "id": "47c8ab59-4f73-4887-afd2-b0672ae1886e",
   "metadata": {},
   "outputs": [],
   "source": [
    "labels = np.array(df[\"Diagnosis\"])\n",
    "features = np.array(df.drop([\"Diagnosis\"], axis = 1))"
   ]
  },
  {
   "cell_type": "code",
   "execution_count": null,
   "id": "bb5849e2-835d-4027-9cc8-ac06d9ca8e59",
   "metadata": {},
   "outputs": [],
   "source": [
    "# Scaling the features : \n",
    "from sklearn.preprocessing import StandardScaler, MinMaxScaler\n",
    "\n",
    "scaler = MinMaxScaler()\n",
    "#scaler = StandardScaler()\n",
    "\n",
    "features = scaler.fit_transform(features)"
   ]
  },
  {
   "cell_type": "markdown",
   "id": "cd558d09-18b4-43db-a692-489134350476",
   "metadata": {},
   "source": [
    "### Now i will build a classifier :"
   ]
  },
  {
   "cell_type": "code",
   "execution_count": null,
   "id": "ef2fa902-f3ee-4d17-9dfe-7e1d245ccfac",
   "metadata": {},
   "outputs": [],
   "source": [
    "from sklearn.model_selection import train_test_split\n",
    "\n",
    "X_train, X_test, y_train, y_test = train_test_split(features, labels, test_size = 0.3)\n",
    "\n",
    "y_train = pd.to_numeric(y_train, errors='coerce')\n",
    "y_test = pd.to_numeric(y_test, errors='coerce')"
   ]
  },
  {
   "cell_type": "code",
   "execution_count": null,
   "id": "0ab4993d-c1ef-47db-8d7b-99f0ba83b10d",
   "metadata": {},
   "outputs": [],
   "source": [
    "labels_train, counts_train = np.unique(y_train, return_counts = True)\n",
    "\n",
    "for key, value in zip(labels_train, counts_train):\n",
    "    if key == 1:\n",
    "        freq1 = value\n",
    "    else:\n",
    "        freq2 = value\n",
    "    print(f\"In class {key} has {value} samples.\")"
   ]
  },
  {
   "cell_type": "code",
   "execution_count": null,
   "id": "d9d672eb-00d6-429a-9d2a-364b86f11a72",
   "metadata": {},
   "outputs": [],
   "source": [
    "labels_test, counts_test = np.unique(y_test, return_counts = True)\n",
    "\n",
    "for key, value in zip(labels_test, counts_test):\n",
    "    print(f\"In class {key} has {value} samples.\")"
   ]
  },
  {
   "cell_type": "code",
   "execution_count": null,
   "id": "0105df22-2ede-4f0e-b4be-754e781bc7ba",
   "metadata": {},
   "outputs": [],
   "source": [
    "import time\n",
    "# Building my SVM classifier\n",
    "from sklearn.svm import SVC\n",
    "from sklearn.model_selection import GridSearchCV\n",
    "\n",
    "svm = SVC()\n",
    "c_grid = np.arange(start = 0.01, stop = 2, step = 0.01) # C values for Grid.\n",
    "kern_type = [\"linear\", \"poly\", \"rbf\", \"sigmoid\"] # Kernel types for grid\n",
    "parameters = {\"C\" : c_grid, \"kernel\" : kern_type}\n",
    "\n",
    "start_time = time.time()\n",
    "\n",
    "GS = GridSearchCV(svm, param_grid = parameters, cv = 10) # Creating my own grid.\n",
    "GS.fit(X_train, y_train)\n",
    "\n",
    "end_time = time.time()\n",
    "print(f\"The best accuracy was {GS.best_score_} with the parameters {GS.best_params_}\")"
   ]
  },
  {
   "cell_type": "code",
   "execution_count": null,
   "id": "98b09f3a-531c-4b16-b0be-ee9088775e5a",
   "metadata": {},
   "outputs": [],
   "source": [
    "best_C = GS.best_params_[\"C\"]\n",
    "best_Kernel = GS.best_params_[\"kernel\"]"
   ]
  },
  {
   "cell_type": "code",
   "execution_count": null,
   "id": "9c1c0e53-f35d-4815-8730-b43b52cdd670",
   "metadata": {},
   "outputs": [],
   "source": [
    "print(f\"Execution time: {end_time - start_time} seconds\")"
   ]
  },
  {
   "cell_type": "code",
   "execution_count": null,
   "id": "7117e388-bfa1-4992-88d1-f5bbff0bc0ef",
   "metadata": {},
   "outputs": [],
   "source": [
    "best_svm = SVC(C = best_C, kernel = best_Kernel, probability = True) # Creating a SVM with the best parameters.\n",
    "best_svm.fit(X_train, y_train)\n",
    "pred_val_svm = best_svm.predict(X_test)"
   ]
  },
  {
   "cell_type": "code",
   "execution_count": null,
   "id": "476087ac-8a45-400f-afbf-c3060ebcc087",
   "metadata": {},
   "outputs": [],
   "source": [
    "from sklearn.metrics import confusion_matrix, ConfusionMatrixDisplay\n",
    "cm_svm = confusion_matrix(y_test, pred_val_svm)\n",
    "display = ConfusionMatrixDisplay(confusion_matrix = cm_svm)\n",
    "display.plot()\n",
    "plt.show()"
   ]
  },
  {
   "cell_type": "code",
   "execution_count": null,
   "id": "887a34cb-0c9e-4dcb-a8b3-286c8f6dd131",
   "metadata": {},
   "outputs": [],
   "source": [
    "from sklearn.metrics import classification_report\n",
    "\n",
    "report = classification_report(y_test, pred_val_svm)\n",
    "print(report)\n"
   ]
  },
  {
   "cell_type": "code",
   "execution_count": null,
   "id": "b4eb7c2e-9dda-419d-a020-41eaa6f3c1f2",
   "metadata": {},
   "outputs": [],
   "source": [
    "from sklearn.metrics import roc_curve, auc\n",
    "\n",
    "pred_proba = best_svm.predict_proba(X_test)[:, 1]\n",
    "\n",
    "fpr, tpr, thresholds = roc_curve(y_test, pred_proba)\n",
    "\n",
    "roc_auc = auc(fpr, tpr)"
   ]
  },
  {
   "cell_type": "code",
   "execution_count": null,
   "id": "2443e458-c792-4de4-9196-169b9631f026",
   "metadata": {},
   "outputs": [],
   "source": [
    "pred_proba"
   ]
  },
  {
   "cell_type": "code",
   "execution_count": null,
   "id": "aa91a6c7-b40a-42f2-b6c8-1ac89f802284",
   "metadata": {},
   "outputs": [],
   "source": [
    "# Plot the ROC curve\n",
    "plt.figure(figsize=(8, 6))\n",
    "plt.plot(fpr, tpr, color='blue', label='ROC curve (area = {:.2f})'.format(roc_auc))\n",
    "plt.plot([0, 1], [0, 1], color='red', linestyle='--')  # Diagonal line\n",
    "plt.xlim([0.0, 1.0])\n",
    "plt.ylim([0.0, 1.05])\n",
    "plt.xlabel('False Positive Rate')\n",
    "plt.ylabel('True Positive Rate')\n",
    "plt.title('Receiver Operating Characteristic')\n",
    "plt.legend(loc=\"lower right\")\n",
    "plt.grid()\n",
    "plt.show()\n"
   ]
  },
  {
   "cell_type": "markdown",
   "id": "088ad8ec-cef3-4c9e-b18f-8074911b9618",
   "metadata": {},
   "source": [
    "# KNN with code i did by hand: "
   ]
  },
  {
   "cell_type": "code",
   "execution_count": null,
   "id": "f982cc1a-52e6-4c37-9e8c-df4f43eed9ba",
   "metadata": {},
   "outputs": [],
   "source": [
    "def gaussian_kernel(distance, bandwidth=1.0):\n",
    "    distance = np.asarray(distance)  # Ensure distance is an array\n",
    "    return np.exp(- (distance ** 2) / (2 * bandwidth ** 2)) / np.sqrt(2 * np.pi)"
   ]
  },
  {
   "cell_type": "code",
   "execution_count": null,
   "id": "3558e6f0-8ca0-4d21-b459-374452bedb95",
   "metadata": {},
   "outputs": [],
   "source": [
    "def knn_altered_classify(matrix, freq1, freq2, labels, new_points, k, h):\n",
    "    ret = []\n",
    "    \n",
    "    # Check input shapes\n",
    "    if matrix.shape[0] != labels.shape[0]:\n",
    "        raise ValueError(\"The number of samples in the matrix and labels must match.\")\n",
    "    \n",
    "    for new_point in new_points:\n",
    "        # Calculate the distances to all points\n",
    "        distances = np.linalg.norm(matrix - new_point, axis=1)\n",
    "\n",
    "        # Create weights based on class frequencies\n",
    "        class_labels = np.unique(labels)\n",
    "        weights = np.zeros_like(distances)\n",
    "\n",
    "        # Assign weights based on the class frequencies\n",
    "        for label in class_labels:\n",
    "            mask = labels == label\n",
    "            weights[mask] = freq1 if label == 1 else freq2  # Use appropriate frequencies based on the label\n",
    "\n",
    "        # Apply frequency weights to distances\n",
    "        distances *= weights\n",
    "        \n",
    "        # Get the indices of the k nearest neighbors\n",
    "        nearest_indices = np.argsort(distances)[:k]\n",
    "        \n",
    "        # Calculate weights using the Gaussian kernel\n",
    "        nearest_points = distances[nearest_indices]\n",
    "        kernel_weights = gaussian_kernel(distance=nearest_points, bandwidth=h)\n",
    "\n",
    "        # Get the labels of the nearest points\n",
    "        points = labels[nearest_indices]\n",
    "\n",
    "        # Calculate weighted sum of the labels\n",
    "        weighted_sum = np.sum(points * kernel_weights)\n",
    "\n",
    "        # Classify based on weighted sum\n",
    "        ret.append(1 if weighted_sum >= 0 else -1)\n",
    "\n",
    "    return ret"
   ]
  },
  {
   "cell_type": "code",
   "execution_count": null,
   "id": "0fa2a030-f182-4779-8388-3738e736e711",
   "metadata": {},
   "outputs": [],
   "source": [
    "def CV_knn(df, CV, k, h):\n",
    "    size_samples = df.shape[0] // CV\n",
    "    df = df.sample(frac=1, random_state=0).reset_index(drop=True)\n",
    "\n",
    "    # Convert feature columns to numeric\n",
    "    df.iloc[:, :-1] = df.iloc[:, :-1].apply(pd.to_numeric, errors='coerce')\n",
    "\n",
    "    y = df[\"Diagnosis\"].values\n",
    "    df.drop(columns=[\"Diagnosis\"], inplace=True)\n",
    "    acc = 0\n",
    "\n",
    "    try:\n",
    "        for i in range(CV):\n",
    "            test_indices = range(size_samples * i, size_samples * (i + 1))\n",
    "            y_test = y[test_indices]\n",
    "            X_test = df.iloc[test_indices, :].values\n",
    "            \n",
    "            # Create train sets by excluding test indices\n",
    "            y_train = np.delete(y, test_indices, axis=0)\n",
    "            X_train = df.drop(test_indices).values\n",
    "            \n",
    "            labels_train, counts_train = np.unique(y_train, return_counts=True)\n",
    "            \n",
    "            freq1, freq2 = 0, 0\n",
    "            for key, value in zip(labels_train, counts_train):\n",
    "                if key == 1:\n",
    "                    freq1 = value\n",
    "                elif key == -1:\n",
    "                    freq2 = value\n",
    "            \n",
    "            # Ensure the classifier function returns valid predictions\n",
    "            pred = np.array(knn_altered_classify(matrix=X_train, freq1=freq1, freq2=freq2, labels=y_train,\n",
    "                                                  new_points=X_test, k=k, h=h))\n",
    "            \n",
    "\n",
    "\n",
    "            pred = pred.astype(int)\n",
    "            y_test = y_test.astype(int)\n",
    "            acc += accuracy_score(y_test, pred)\n",
    "\n",
    "        return acc / CV\n",
    "            \n",
    "    except Exception as error:\n",
    "        print(f\"The error {error} is happening.\")\n",
    "        raise\n"
   ]
  },
  {
   "cell_type": "code",
   "execution_count": null,
   "id": "65cc99ec-1138-432f-9937-2f279dadbdc8",
   "metadata": {},
   "outputs": [],
   "source": [
    "start = time.time()\n",
    "k = 25\n",
    "h = 1000\n",
    "arr_GS = []\n",
    "for i in range(1, k + 1):\n",
    "    arr_GS.append(CV_knn(df = df, CV = 10, k = i, h = h))\n",
    "\n",
    "max_pos = 0\n",
    "for i in range(len(arr_GS)):\n",
    "    if arr_GS[i] >= arr_GS[max_pos]:\n",
    "        max_pos = i\n",
    "\n",
    "finish = time.time()\n",
    "print(f\"Using k = {max_pos} I had the best accuracy that was: {arr_GS[max_pos]}\")"
   ]
  },
  {
   "cell_type": "code",
   "execution_count": null,
   "id": "a5fbe573-0eba-471f-a374-0ddb888097eb",
   "metadata": {},
   "outputs": [],
   "source": [
    "print(f\"The time was {finish - start}\")"
   ]
  },
  {
   "cell_type": "code",
   "execution_count": null,
   "id": "e4090c28-f959-4534-83b7-93213f196a9c",
   "metadata": {},
   "outputs": [],
   "source": [
    "pred_knn = knn_altered_classify(matrix = X_train, freq1 = freq1, freq2 = freq2, labels = y_train, new_points = X_test,\n",
    "                                k = max_pos, h = h)"
   ]
  },
  {
   "cell_type": "code",
   "execution_count": null,
   "id": "54a21f30-4c13-47b7-8d75-2b3363799195",
   "metadata": {},
   "outputs": [],
   "source": [
    "print(f\"A acurácia do knn é {accuracy_score(y_test, pred_knn)}\")"
   ]
  },
  {
   "cell_type": "code",
   "execution_count": null,
   "id": "227d602d-5890-4e95-b84f-ed1855002e81",
   "metadata": {},
   "outputs": [],
   "source": [
    "cm_knn = confusion_matrix(y_test, pred_knn)\n",
    "display = ConfusionMatrixDisplay(confusion_matrix = cm_knn)\n",
    "display.plot()\n",
    "plt.show()"
   ]
  },
  {
   "cell_type": "code",
   "execution_count": null,
   "id": "fee9f73f-a352-4b62-a3c5-c979382f920e",
   "metadata": {},
   "outputs": [],
   "source": [
    "report = classification_report(y_test, pred_knn)\n",
    "print(report)"
   ]
  },
  {
   "cell_type": "code",
   "execution_count": null,
   "id": "c38762c9-d56c-49a1-a8d9-6f58782a6c22",
   "metadata": {},
   "outputs": [],
   "source": []
  }
 ],
 "metadata": {
  "kernelspec": {
   "display_name": "Python 3 (ipykernel)",
   "language": "python",
   "name": "python3"
  },
  "language_info": {
   "codemirror_mode": {
    "name": "ipython",
    "version": 3
   },
   "file_extension": ".py",
   "mimetype": "text/x-python",
   "name": "python",
   "nbconvert_exporter": "python",
   "pygments_lexer": "ipython3",
   "version": "3.12.3"
  }
 },
 "nbformat": 4,
 "nbformat_minor": 5
}
