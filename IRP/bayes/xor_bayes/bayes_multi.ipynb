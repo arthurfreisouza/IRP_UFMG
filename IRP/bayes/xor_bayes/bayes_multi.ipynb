{
 "cells": [
  {
   "cell_type": "code",
   "execution_count": 14,
   "id": "0677739e-a954-4599-9dc2-29ab0924e51b",
   "metadata": {},
   "outputs": [],
   "source": [
    "import numpy as np\n",
    "import pandas as pd\n",
    "import matplotlib.pyplot as plt"
   ]
  },
  {
   "cell_type": "code",
   "execution_count": 15,
   "id": "600fa90d-a51b-4546-b14f-72ec3f0dca1f",
   "metadata": {},
   "outputs": [],
   "source": [
    "def normal_gauss(x, m, r):\n",
    "    return np.exp(-0.5 * ((x - m) / r) ** 2) / (np.sqrt(2 * np.pi) * r)"
   ]
  },
  {
   "cell_type": "code",
   "execution_count": 16,
   "id": "1f95a5db-74ed-49f5-85ac-f19b6286d316",
   "metadata": {},
   "outputs": [],
   "source": [
    "def create_sample(xor = False, size = 200, sdv = 0.4):\n",
    "    x1cla1c1 = np.random.normal(loc = 2, scale = 0.8, size = size).reshape(-1, 1)\n",
    "    x2cla1c1 = np.random.normal(loc = 2, scale = 0.8, size = size).reshape(-1, 1)\n",
    "    \n",
    "    x1cla1c2 = np.random.normal(loc = 4, scale = sdv, size = size).reshape(-1, 1)\n",
    "    x2cla1c2 = np.random.normal(loc = 4, scale = sdv, size = size).reshape(-1, 1)\n",
    "    \n",
    "    if xor == True:\n",
    "        x1cla2c1 = np.random.normal(loc = 4, scale = sdv, size = size).reshape(-1, 1)\n",
    "        x2cla2c1 = np.random.normal(loc = 2, scale = sdv, size = size).reshape(-1, 1)\n",
    "        \n",
    "        x1cla2c2 = np.random.normal(loc = 2, scale = sdv, size = size).reshape(-1, 1)\n",
    "        x2cla2c2 = np.random.normal(loc = 4, scale = sdv, size = size).reshape(-1, 1)\n",
    "\n",
    "        cla1c1 = np.concatenate((x1cla1c1, x2cla1c1), axis = 1)\n",
    "        cla1c2 = np.concatenate((x1cla1c2, x2cla1c2), axis = 1)\n",
    "        cla1 = np.concatenate((cla1c1, cla1c2), axis = 0)\n",
    "        ones = np.ones(cla1.shape[0]).reshape(-1, 1)\n",
    "        cla1 = np.concatenate((cla1, ones), axis = 1)\n",
    "\n",
    "        cla2c1 = np.concatenate((x1cla2c1, x2cla2c1), axis = 1)\n",
    "        cla2c2 = np.concatenate((x1cla2c2, x2cla2c2), axis = 1)\n",
    "        cla2 = np.concatenate((cla2c1, cla2c2), axis = 0)\n",
    "        ones_neg = -1*np.ones(cla2.shape[0]).reshape(-1, 1)\n",
    "        cla2 = np.concatenate((cla2, ones_neg), axis = 1)\n",
    "        \n",
    "        return np.concatenate((cla1, cla2), axis = 0)\n",
    "    else: \n",
    "        cla1 = np.concatenate((x1cla1c1, x2cla1c1), axis = 1)\n",
    "        ones = np.ones(cla1.shape[0]).reshape(-1, 1)\n",
    "        cla1 = np.concatenate((cla1, ones), axis = 1)\n",
    "        \n",
    "        cla2 = np.concatenate((x1cla1c2, x2cla1c2), axis = 1)\n",
    "        ones_neg = -1*np.ones(cla2.shape[0]).reshape(-1, 1)\n",
    "        cla2 = np.concatenate((cla2, ones_neg), axis = 1)\n",
    "        \n",
    "        return np.concatenate((cla1, cla2), axis = 0)"
   ]
  },
  {
   "cell_type": "markdown",
   "id": "5413d9d4-fb31-4ecd-bfd0-8a79be45b932",
   "metadata": {},
   "source": [
    "### Part 1:"
   ]
  },
  {
   "cell_type": "code",
   "execution_count": 17,
   "id": "87ebb324-6cd7-4f6c-8a31-f92782471def",
   "metadata": {},
   "outputs": [],
   "source": [
    "data_ex1 = create_sample(xor = False, size = 50, sdv = 0.3)\n",
    "\n",
    "data1_ex1 = data_ex1[data_ex1[:, 2] == 1]\n",
    "data2_ex1 = data_ex1[data_ex1[:, 2] == -1]"
   ]
  },
  {
   "cell_type": "code",
   "execution_count": 18,
   "id": "716d999e-0c28-49fe-8db1-56d0a0773160",
   "metadata": {},
   "outputs": [],
   "source": [
    "# Calculating the mean and standard deviation of each sample :\n",
    "\n",
    "m11 = np.mean(data1_ex1[:, 0])\n",
    "m12 = np.mean(data1_ex1[:, 1])\n",
    "m21 = np.mean(data2_ex1[:, 0])\n",
    "m22 = np.mean(data2_ex1[:, 1])\n",
    "\n",
    "s11 = np.std(data1_ex1[:, 0])\n",
    "s12 = np.std(data1_ex1[:, 1])\n",
    "s21 = np.std(data2_ex1[:, 0])\n",
    "s22 = np.std(data2_ex1[:, 1])"
   ]
  },
  {
   "cell_type": "code",
   "execution_count": 19,
   "id": "2a6f8556-e877-46ac-9934-b230ffbc154b",
   "metadata": {},
   "outputs": [],
   "source": [
    "xrange = np.linspace(start = 0, stop = 6, num = 60)\n",
    "\n",
    "f11 = normal_gauss(xrange, m11, s11).reshape(-1, 1)\n",
    "f12 = normal_gauss(xrange, m12, s12).reshape(-1, 1)\n",
    "f21 = normal_gauss(xrange, m21, s21).reshape(-1, 1)\n",
    "f22 = normal_gauss(xrange, m22, s22).reshape(-1, 1)"
   ]
  },
  {
   "cell_type": "code",
   "execution_count": 20,
   "id": "f26752f9-962e-475b-89fd-202fc2e86bcd",
   "metadata": {},
   "outputs": [
    {
     "data": {
      "image/png": "[encoded data removed]",
      "text/plain": [
       "<Figure size 640x480 with 1 Axes>"
      ]
     },
     "metadata": {},
     "output_type": "display_data"
    }
   ],
   "source": [
    "plt.scatter(data1_ex1[:, 0], data1_ex1[:, 1], color = \"blue\")\n",
    "plt.plot(xrange, f11, color = \"blue\")\n",
    "plt.plot(f12, xrange, color = \"blue\")\n",
    "plt.scatter(data2_ex1[:, 0], data2_ex1[:, 1], color = \"red\")\n",
    "plt.plot(xrange, f21, color = \"red\")\n",
    "plt.plot(f22, xrange, color = \"red\")\n",
    "plt.xlim(0, 6)\n",
    "plt.ylim(0, 6)\n",
    "plt.xlabel(\"x1\")\n",
    "plt.ylabel(\"x2\")\n",
    "plt.show()"
   ]
  },
  {
   "cell_type": "code",
   "execution_count": 21,
   "id": "790f396f-1d92-4247-9739-c45cfae53161",
   "metadata": {},
   "outputs": [],
   "source": [
    "X_1 = data_ex1[:, : -1]\n",
    "y_1 = data_ex1[:, -1]"
   ]
  },
  {
   "cell_type": "code",
   "execution_count": 27,
   "id": "ad2e431c-fe01-44f9-b8bd-a2eea25f4e53",
   "metadata": {},
   "outputs": [],
   "source": [
    "def pdfnvar(x: np.ndarray, m: np.ndarray, K: np.ndarray, n: int):\n",
    "    diff = x - m\n",
    "    det_K = np.linalg.det(K)\n",
    "    \n",
    "    # Use pseudo-inverse if K is singular\n",
    "    if det_K == 0:\n",
    "        inv_K = np.linalg.pinv(K)\n",
    "    else:\n",
    "        inv_K = np.linalg.inv(K)\n",
    "    \n",
    "    exponent = -0.5 * (diff.T @ inv_K @ diff)\n",
    "    denominator = np.sqrt((2 * np.pi) ** n * det_K)\n",
    "    \n",
    "    return (1 / denominator) * np.exp(exponent)"
   ]
  },
  {
   "cell_type": "code",
   "execution_count": 28,
   "id": "acd8cef8-39ef-43c4-a7ba-547a890fb151",
   "metadata": {},
   "outputs": [],
   "source": [
    "def bayes(X_train, y_train, X_test):\n",
    "    # Concatenate features and labels\n",
    "    data = np.column_stack((X_train, y_train))\n",
    "    label, count = np.unique(y_train, return_counts=True)\n",
    "\n",
    "    # Separate the data for each class\n",
    "    Xc1 = data[data[:, -1] == 1][:, :-1]\n",
    "    mc1 = np.mean(Xc1, axis=0)\n",
    "    cov1 = np.cov(Xc1, rowvar=False)\n",
    "    \n",
    "    Xc2 = data[data[:, -1] == -1][:, :-1]\n",
    "    mc2 = np.mean(Xc2, axis=0)\n",
    "    cov2 = np.cov(Xc2, rowvar=False)\n",
    "\n",
    "    # Calculate prior probabilities\n",
    "    Pc1 = count[0] / (count[0] + count[1])\n",
    "    Pc2 = count[1] / (count[0] + count[1])\n",
    "\n",
    "    rest = []\n",
    "    for i in X_test:\n",
    "        Vers1 = pdfnvar(x = i, m = mc1, K = cov1, n = X_train.shape[1])\n",
    "        Vers2 = pdfnvar(x = i, m = mc2, K = cov2, n = X_train.shape[1])\n",
    "        C1 = Pc1 * Vers1\n",
    "        C2 = Pc2 * Vers2\n",
    "        if C1 >= C2:\n",
    "            rest.append(1)  # Class 1\n",
    "        else:\n",
    "            rest.append(-1)  # Class 0\n",
    "    return np.array(rest)"
   ]
  },
  {
   "cell_type": "code",
   "execution_count": 29,
   "id": "2dc8fab5-b41f-4c9b-be46-2da2bd477995",
   "metadata": {},
   "outputs": [],
   "source": [
    "from sklearn.preprocessing import MinMaxScaler, StandardScaler\n",
    "\n",
    "def k_fold_cv(data, label, k, Min = True):\n",
    "    # Taking how much data we'll have in each fold.\n",
    "    Na = data.shape[0] // k\n",
    "    idx = np.random.permutation(data.shape[0])\n",
    "    \n",
    "    # Use .iloc for pandas DataFrame indexing\n",
    "    data = data.iloc[idx]\n",
    "    label = label.iloc[idx]  # Adjust label indexing if it's a pandas Series\n",
    "    a = 1\n",
    "    # Using the scaler\n",
    "    if Min == True:\n",
    "        scaler = MinMaxScaler()\n",
    "        data = scaler.fit_transform(data)\n",
    "    elif Min == False and a != 1:\n",
    "        scaler = StandardScaler()\n",
    "        data = scaler.fit_transform(data)\n",
    "    elif Min == False and a == 1:\n",
    "        data = np.array(data)\n",
    "        \n",
    "    cv_r = []\n",
    "    for i in range(k):\n",
    "        # Taking the index of each sample.\n",
    "        test_idx = np.arange(start=(i * Na), stop=(i + 1) * Na, step = 1)\n",
    "        train_idx = np.setdiff1d(np.arange(data.shape[0]), test_idx)\n",
    "        \n",
    "        # Separating data train and data test.\n",
    "        X_test = data[test_idx, :]\n",
    "        X_train = data[train_idx, :]\n",
    "        y_test = label[test_idx]\n",
    "        y_train = label[train_idx]\n",
    "\n",
    "        # Predicting with Bayes classifier\n",
    "        y_pred = bayes(X_train = X_train, y_train = y_train, X_test = X_test)\n",
    "\n",
    "        # Calculate accuracy\n",
    "        cv_r.append(np.mean(np.array(y_pred) == y_test))  # Accuracy. You can change the metric here.\n",
    "    return np.mean(cv_r)  # The final accuracy is the mean."
   ]
  },
  {
   "cell_type": "code",
   "execution_count": 30,
   "id": "b24fcfaf-e510-4cb1-9cfa-dd023c500f9e",
   "metadata": {},
   "outputs": [
    {
     "name": "stdout",
     "output_type": "stream",
     "text": [
      "[[1.24862076 0.88398695]\n",
      " [0.88398695 1.29612795]]\n"
     ]
    },
    {
     "data": {
      "text/plain": [
       "[]"
      ]
     },
     "execution_count": 30,
     "metadata": {},
     "output_type": "execute_result"
    },
    {
     "data": {
      "image/png": "[encoded data removed]",
      "text/plain": [
       "<Figure size 500x500 with 2 Axes>"
      ]
     },
     "metadata": {},
     "output_type": "display_data"
    }
   ],
   "source": [
    "import seaborn as sns\n",
    "cov_matrix_ex1 = np.cov(X_1, rowvar=False)\n",
    "print(cov_matrix_ex1)\n",
    "plt.figure(figsize = (5, 5))\n",
    "sns.heatmap(data = cov_matrix_ex1, annot = True)\n",
    "plt.plot()"
   ]
  },
  {
   "cell_type": "code",
   "execution_count": 31,
   "id": "c1b60ea0-1fa9-4974-aaae-2e899bdb090b",
   "metadata": {},
   "outputs": [],
   "source": [
    "a_1 = k_fold_cv(data = pd.DataFrame(X_1), label = pd.Series(y_1), k = 10, Min = True)"
   ]
  },
  {
   "cell_type": "code",
   "execution_count": 32,
   "id": "13964d9a-9b80-43b2-a212-dfe2180cbc6a",
   "metadata": {},
   "outputs": [
    {
     "name": "stdout",
     "output_type": "stream",
     "text": [
      "The mean acc is 70.0%\n"
     ]
    }
   ],
   "source": [
    "print(f\"The mean acc is {a_1*100}%\")"
   ]
  },
  {
   "cell_type": "code",
   "execution_count": 60,
   "id": "b0c1214b-31ca-4318-8c3b-42d43db1565b",
   "metadata": {},
   "outputs": [
    {
     "data": {
      "image/png": "[encoded data removed]",
      "text/plain": [
       "<Figure size 640x480 with 1 Axes>"
      ]
     },
     "metadata": {},
     "output_type": "display_data"
    }
   ],
   "source": [
    "import numpy as np\n",
    "import matplotlib.pyplot as plt\n",
    "from scipy.stats import multivariate_normal\n",
    "\n",
    "def plot_separation_surface(X_train, y_train):\n",
    "    # Combine features and labels\n",
    "    data = np.column_stack((X_train, y_train))\n",
    "\n",
    "    # Separate data based on class labels\n",
    "    Xc1 = data[data[:, -1] == 1][:, :-1]\n",
    "    mc1 = np.mean(Xc1, axis=0)\n",
    "    cov1 = np.cov(Xc1, rowvar=False)\n",
    "    \n",
    "    Xc2 = data[data[:, -1] == -1][:, :-1]\n",
    "    mc2 = np.mean(Xc2, axis=0)\n",
    "    cov2 = np.cov(Xc2, rowvar=False)\n",
    "    \n",
    "    # Generate grid points for plotting\n",
    "    x_min, x_max = X_train[:, 0].min() - 1, X_train[:, 0].max() + 1\n",
    "    y_min, y_max = X_train[:, 1].min() - 1, X_train[:, 1].max() + 1\n",
    "    seqi, seqj = np.meshgrid(np.linspace(x_min, x_max - 3, 100), \n",
    "                             np.linspace(y_min, y_max - 3, 100))\n",
    "    grid_points = np.column_stack((seqi.ravel(), seqj.ravel()))\n",
    "\n",
    "    # Calculate PDFs using scipy.stats.multivariate_normal\n",
    "    pdf1 = multivariate_normal.pdf(grid_points, mean=mc1, cov=cov1)\n",
    "    pdf2 = multivariate_normal.pdf(grid_points, mean=mc2, cov=cov2)\n",
    "\n",
    "    # Compute decision boundary\n",
    "    boundary = (pdf1 - pdf2).reshape(seqi.shape)\n",
    "\n",
    "    # Plot decision boundary\n",
    "    plt.contour(seqi, seqj, boundary, levels=[0], colors=\"black\")\n",
    "    plt.xlabel(\"Feature 1\")\n",
    "    plt.ylabel(\"Feature 2\")\n",
    "    plt.title(\"Decision Boundary Contour\")\n",
    "    plt.xlim(x_min, x_max)\n",
    "    plt.ylim(y_min, y_max)\n",
    "\n",
    "# Example usage\n",
    "np.random.seed(42)\n",
    "X_train = np.random.rand(100, 2) * 10  # Random 2D features\n",
    "y_train = np.random.choice([1, -1], size=100)  # Random binary labels\n",
    "\n",
    "plot_separation_surface(X_train, y_train)\n",
    "plt.scatter(data1_ex1[:, 0], data1_ex1[:, 1], color = \"blue\")\n",
    "plt.scatter(data2_ex1[:, 0], data2_ex1[:, 1], color = \"red\")\n",
    "plt.show()\n"
   ]
  },
  {
   "cell_type": "code",
   "execution_count": 61,
   "id": "013f377e-584f-4126-a131-6f28576adcee",
   "metadata": {},
   "outputs": [
    {
     "data": {
      "text/plain": [
       "'def plot_separation_surface(X_train, y_train):\\n    data = np.column_stack((X_train, y_train))\\n\\n    Xc1 = data[data[:, -1] == 1][:, :-1]\\n    mc1 = np.mean(Xc1, axis=0)\\n    cov1 = np.cov(Xc1, rowvar=False)\\n    \\n    Xc2 = data[data[:, -1] == -1][:, :-1]\\n    mc2 = np.mean(Xc2, axis=0)\\n    cov2 = np.cov(Xc2, rowvar=False)\\n    \\n    # Generate grid points for plotting\\n    x_min, x_max = X_train[:, 0].min() - 1, X_train[:, 0].max() + 1\\n    y_min, y_max = X_train[:, 1].min() - 1, X_train[:, 1].max() + 1\\n    seqi, seqj = np.meshgrid(np.linspace(x_min, x_max, 100), \\n                             np.linspace(y_min, y_max, 100))\\n    grid_points = np.column_stack((seqi.ravel(), seqj.ravel()))\\n    #raise Exception(f\" grid dim {grid_points.shape}\")\\n    pdf1 = pdfnvar(x = grid_points, m = mc1, K = cov1, n = 2)\\n    pdf2 = pdfnvar(x = grid_points, m = mc2, K = cov2, n = 2)\\n\\n    boundary = (pdf1 - pdf2).reshape(seqi.shape)\\n\\n    plt.contour(seqi, seqj, boundary, levels = [0], colors = \"red\")\\n    plt.xlabel(\"seqi\")\\n    plt.ylabel(\"seqj\")\\n    plt.title(\"Contour Plot\")\\n    plt.xlim(0, 6)\\n    plt.ylabel(0, 6)\\n    plt.show()\\nplot_separation_surface(X_train = X_1, y_train = y_1)'"
      ]
     },
     "execution_count": 61,
     "metadata": {},
     "output_type": "execute_result"
    }
   ],
   "source": [
    "\"\"\"def plot_separation_surface(X_train, y_train):\n",
    "    data = np.column_stack((X_train, y_train))\n",
    "\n",
    "    Xc1 = data[data[:, -1] == 1][:, :-1]\n",
    "    mc1 = np.mean(Xc1, axis=0)\n",
    "    cov1 = np.cov(Xc1, rowvar=False)\n",
    "    \n",
    "    Xc2 = data[data[:, -1] == -1][:, :-1]\n",
    "    mc2 = np.mean(Xc2, axis=0)\n",
    "    cov2 = np.cov(Xc2, rowvar=False)\n",
    "    \n",
    "    # Generate grid points for plotting\n",
    "    x_min, x_max = X_train[:, 0].min() - 1, X_train[:, 0].max() + 1\n",
    "    y_min, y_max = X_train[:, 1].min() - 1, X_train[:, 1].max() + 1\n",
    "    seqi, seqj = np.meshgrid(np.linspace(x_min, x_max, 100), \n",
    "                             np.linspace(y_min, y_max, 100))\n",
    "    grid_points = np.column_stack((seqi.ravel(), seqj.ravel()))\n",
    "    #raise Exception(f\" grid dim {grid_points.shape}\")\n",
    "    pdf1 = pdfnvar(x = grid_points, m = mc1, K = cov1, n = 2)\n",
    "    pdf2 = pdfnvar(x = grid_points, m = mc2, K = cov2, n = 2)\n",
    "\n",
    "    boundary = (pdf1 - pdf2).reshape(seqi.shape)\n",
    "\n",
    "    plt.contour(seqi, seqj, boundary, levels = [0], colors = \"red\")\n",
    "    plt.xlabel(\"seqi\")\n",
    "    plt.ylabel(\"seqj\")\n",
    "    plt.title(\"Contour Plot\")\n",
    "    plt.xlim(0, 6)\n",
    "    plt.ylabel(0, 6)\n",
    "    plt.show()\n",
    "plot_separation_surface(X_train = X_1, y_train = y_1)\"\"\""
   ]
  },
  {
   "cell_type": "markdown",
   "id": "31a4cd1b-cc84-445e-8f05-5bdfe7489770",
   "metadata": {},
   "source": [
    "### Part 2:"
   ]
  },
  {
   "cell_type": "code",
   "execution_count": 49,
   "id": "acc60124-0c0a-48c6-8f77-1d202bbbc419",
   "metadata": {},
   "outputs": [],
   "source": [
    "data_ex2 = create_sample(xor = True, size = 50, sdv = 0.3)\n",
    "\n",
    "data1_ex2 = data_ex2[data_ex2[:, 2] == 1]\n",
    "data2_ex2 = data_ex2[data_ex2[:, 2] == -1]"
   ]
  },
  {
   "cell_type": "code",
   "execution_count": 50,
   "id": "1f30b247-40df-4dd5-9121-12635f7dbcc9",
   "metadata": {},
   "outputs": [],
   "source": [
    "# Calculating the mean and standard deviation of each sample :\n",
    "\n",
    "m11 = np.mean(data1_ex2[:, 0])\n",
    "m12 = np.mean(data1_ex2[:, 1])\n",
    "m21 = np.mean(data2_ex2[:, 0])\n",
    "m22 = np.mean(data2_ex2[:, 1])\n",
    "\n",
    "s11 = np.std(data1_ex2[:, 0])\n",
    "s12 = np.std(data1_ex2[:, 1])\n",
    "s21 = np.std(data2_ex2[:, 0])\n",
    "s22 = np.std(data2_ex2[:, 1])"
   ]
  },
  {
   "cell_type": "code",
   "execution_count": 51,
   "id": "2365a563-9a23-4a83-bad3-b8e62fbcef3b",
   "metadata": {},
   "outputs": [],
   "source": [
    "xrange = np.linspace(start = 0, stop = 6, num = 60)\n",
    "\n",
    "f11 = normal_gauss(xrange, m11, s11).reshape(-1, 1)\n",
    "f12 = normal_gauss(xrange, m12, s12).reshape(-1, 1)\n",
    "f21 = normal_gauss(xrange, m21, s21).reshape(-1, 1)\n",
    "f22 = normal_gauss(xrange, m22, s22).reshape(-1, 1)"
   ]
  },
  {
   "cell_type": "code",
   "execution_count": 52,
   "id": "1a45b0d7-7dc1-43cb-98b1-5288608e83e1",
   "metadata": {},
   "outputs": [
    {
     "data": {
      "image/png": "[encoded data removed]",
      "text/plain": [
       "<Figure size 640x480 with 1 Axes>"
      ]
     },
     "metadata": {},
     "output_type": "display_data"
    }
   ],
   "source": [
    "plt.scatter(data1_ex2[:, 0], data1_ex2[:, 1], color = \"blue\")\n",
    "plt.plot(xrange, f11, color = \"blue\")\n",
    "plt.plot(f12, xrange, color = \"blue\")\n",
    "plt.scatter(data2_ex2[:, 0], data2_ex2[:, 1], color = \"red\")\n",
    "plt.plot(xrange, f21, color = \"red\")\n",
    "plt.plot(f22, xrange, color = \"red\")\n",
    "plt.xlabel(\"x1\")\n",
    "plt.ylabel(\"x2\")\n",
    "plt.show()"
   ]
  },
  {
   "cell_type": "code",
   "execution_count": 53,
   "id": "0078e632-d95e-42e1-9a66-a48dd62879a0",
   "metadata": {},
   "outputs": [],
   "source": [
    "X_2 = data_ex2[:, : -1]\n",
    "y_2 = data_ex2[:, -1]"
   ]
  },
  {
   "cell_type": "code",
   "execution_count": 55,
   "id": "44b73482-5d6a-4274-ba3f-4106862abaec",
   "metadata": {},
   "outputs": [
    {
     "name": "stdout",
     "output_type": "stream",
     "text": [
      "[[1.30090849 0.01394229]\n",
      " [0.01394229 1.32979793]]\n"
     ]
    },
    {
     "data": {
      "text/plain": [
       "[]"
      ]
     },
     "execution_count": 55,
     "metadata": {},
     "output_type": "execute_result"
    },
    {
     "data": {
      "image/png": "[encoded data removed]",
      "text/plain": [
       "<Figure size 500x500 with 2 Axes>"
      ]
     },
     "metadata": {},
     "output_type": "display_data"
    }
   ],
   "source": [
    "cov_matrix_ex2 = np.cov(X_2, rowvar=False)\n",
    "print(cov_matrix_ex2)\n",
    "plt.figure(figsize = (5, 5))\n",
    "sns.heatmap(data = cov_matrix_ex2, annot = True)\n",
    "plt.plot()"
   ]
  },
  {
   "cell_type": "code",
   "execution_count": 56,
   "id": "d22aea78-225b-4422-a363-370767a7a6d0",
   "metadata": {},
   "outputs": [],
   "source": [
    "a_2 = k_fold_cv(data = pd.DataFrame(X_2), label = pd.Series(y_2), k = 10, Min = True)"
   ]
  },
  {
   "cell_type": "code",
   "execution_count": 57,
   "id": "9cc35f9a-6cc6-40fd-9a8b-dec9c4f4ca1c",
   "metadata": {},
   "outputs": [
    {
     "name": "stdout",
     "output_type": "stream",
     "text": [
      "The acc is 80.5%\n"
     ]
    }
   ],
   "source": [
    "print(f\"The acc is {a_2*100}%\")"
   ]
  },
  {
   "cell_type": "code",
   "execution_count": 62,
   "id": "a4be8a90-7dd8-4fb2-a1bd-244d21db640a",
   "metadata": {},
   "outputs": [
    {
     "data": {
      "image/png": "[encoded data removed]",
      "text/plain": [
       "<Figure size 640x480 with 1 Axes>"
      ]
     },
     "metadata": {},
     "output_type": "display_data"
    }
   ],
   "source": [
    "plot_separation_surface(X_train = X_2, y_train = y_2)"
   ]
  },
  {
   "cell_type": "code",
   "execution_count": 59,
   "id": "b007d7a8-5163-4b89-899f-1d30d024f7c9",
   "metadata": {},
   "outputs": [
    {
     "data": {
      "text/plain": [
       "array([[ 1.32256503,  1.47057083],\n",
       "       [ 0.78812222,  2.68194667],\n",
       "       [ 1.64278804,  1.36598341],\n",
       "       [ 2.68511904,  1.90821085],\n",
       "       [ 2.171275  ,  2.40398982],\n",
       "       [ 1.00340898,  2.69260416],\n",
       "       [ 2.13854474,  1.03976287],\n",
       "       [ 2.3082539 ,  1.73239901],\n",
       "       [ 1.29291405,  1.62004375],\n",
       "       [ 2.12298008,  1.47733661],\n",
       "       [ 2.04656697,  3.41236339],\n",
       "       [ 1.08562376,  2.32398537],\n",
       "       [ 2.28622989,  0.99129284],\n",
       "       [ 2.44862762,  2.73428956],\n",
       "       [ 2.86644099,  3.69772496],\n",
       "       [ 2.84304164,  2.82597221],\n",
       "       [ 0.89786451,  0.78450403],\n",
       "       [ 1.24973997,  1.61261274],\n",
       "       [ 2.41202821,  3.01352892],\n",
       "       [ 2.41102876,  1.43386443],\n",
       "       [ 2.41203815,  2.35505554],\n",
       "       [ 5.08218519,  2.61970724],\n",
       "       [ 2.45671241,  1.25845562],\n",
       "       [ 2.90845251,  1.95237972],\n",
       "       [ 2.76320141, -0.59301387],\n",
       "       [ 2.521113  ,  1.18048989],\n",
       "       [ 1.7477846 ,  1.79794548],\n",
       "       [ 2.60717538,  1.00177345],\n",
       "       [ 1.38173983,  3.30592904],\n",
       "       [ 1.81054511,  0.8558869 ],\n",
       "       [ 1.61170916,  1.64796441],\n",
       "       [ 2.06549931,  2.10459246],\n",
       "       [ 3.85172685,  3.15301863],\n",
       "       [ 0.50618785,  0.85131028],\n",
       "       [ 2.54900815,  2.930531  ],\n",
       "       [ 0.7098273 ,  2.00818645],\n",
       "       [ 1.62245451,  1.21479308],\n",
       "       [ 2.87116048,  2.36968278],\n",
       "       [ 2.05142402,  2.15924776],\n",
       "       [ 1.13780418,  1.5198265 ],\n",
       "       [ 1.42775703,  2.05584167],\n",
       "       [ 2.5436782 ,  1.69174912],\n",
       "       [ 1.41570669,  2.09081388],\n",
       "       [ 2.17316687,  2.52970454],\n",
       "       [ 2.03645747,  3.26881345],\n",
       "       [ 1.47871972,  1.0097476 ],\n",
       "       [ 3.71515527,  3.7064267 ],\n",
       "       [ 2.50713522,  0.43832976],\n",
       "       [ 0.37988593,  1.87857192],\n",
       "       [ 2.14916345,  2.47065377],\n",
       "       [ 4.08429756,  4.12387944],\n",
       "       [ 3.81319014,  3.83088263],\n",
       "       [ 3.93756332,  3.75333388],\n",
       "       [ 3.85209972,  4.07310616],\n",
       "       [ 3.82319057,  4.07348997],\n",
       "       [ 4.25488063,  3.84791705],\n",
       "       [ 4.10710465,  3.85868851],\n",
       "       [ 3.79212712,  4.06961498],\n",
       "       [ 4.26987996,  3.5655747 ],\n",
       "       [ 4.09218986,  3.57776087],\n",
       "       [ 4.24385864,  3.78446673],\n",
       "       [ 4.18888865,  3.93596585],\n",
       "       [ 3.7513015 ,  4.09327227],\n",
       "       [ 3.83194569,  4.44260687],\n",
       "       [ 4.22418808,  4.25729789],\n",
       "       [ 4.18311108,  3.95201844],\n",
       "       [ 3.99372952,  3.99429514],\n",
       "       [ 4.03519821,  3.69924119],\n",
       "       [ 4.38329947,  3.99444606],\n",
       "       [ 3.82252858,  3.91340241],\n",
       "       [ 4.16412921,  4.09681557],\n",
       "       [ 3.9393422 ,  3.75183072],\n",
       "       [ 3.93469564,  4.15580395],\n",
       "       [ 4.32963306,  4.45982167],\n",
       "       [ 4.2476249 ,  3.96737196],\n",
       "       [ 4.24405289,  4.12051352],\n",
       "       [ 4.39164364,  4.2070432 ],\n",
       "       [ 4.00630115,  3.87963386],\n",
       "       [ 4.20458589,  4.06722774],\n",
       "       [ 3.90691997,  4.00377772],\n",
       "       [ 4.09724991,  4.02930283],\n",
       "       [ 3.96095708,  3.76809706],\n",
       "       [ 4.02909879,  4.00735305],\n",
       "       [ 4.17854711,  4.14939949],\n",
       "       [ 3.7545338 ,  4.43534308],\n",
       "       [ 4.62771618,  4.28778125],\n",
       "       [ 3.69819479,  4.64595474],\n",
       "       [ 3.63574342,  3.76979573],\n",
       "       [ 4.34743326,  4.26169619],\n",
       "       [ 4.23749881,  4.0550026 ],\n",
       "       [ 4.18723595,  4.65694088],\n",
       "       [ 4.18850365,  3.75751051],\n",
       "       [ 3.99632597,  3.74808345],\n",
       "       [ 3.73082369,  3.82018221],\n",
       "       [ 4.02274137,  3.36283128],\n",
       "       [ 3.79685149,  3.84227349],\n",
       "       [ 4.29253592,  3.7722602 ],\n",
       "       [ 3.95588279,  4.04511814],\n",
       "       [ 3.75235084,  4.10252679],\n",
       "       [ 3.90358425,  4.56285125],\n",
       "       [ 4.28512715,  1.48898527],\n",
       "       [ 3.8269289 ,  1.98333569],\n",
       "       [ 3.7304756 ,  2.11521963],\n",
       "       [ 4.14757575,  1.99019158],\n",
       "       [ 3.60393004,  1.37976737],\n",
       "       [ 4.54943763,  1.97326399],\n",
       "       [ 4.35383204,  1.60865915],\n",
       "       [ 3.8592473 ,  2.20090176],\n",
       "       [ 3.48605964,  2.10997947],\n",
       "       [ 4.40616171,  1.71803606],\n",
       "       [ 3.96563805,  1.84583992],\n",
       "       [ 4.37134489,  1.68223594],\n",
       "       [ 3.5216717 ,  1.98119627],\n",
       "       [ 3.82018749,  2.2865427 ],\n",
       "       [ 4.00157311,  1.70428219],\n",
       "       [ 4.01409418,  2.15121395],\n",
       "       [ 3.86498036,  1.84092271],\n",
       "       [ 4.18685498,  1.76213815],\n",
       "       [ 3.67971387,  1.96789089],\n",
       "       [ 3.95728615,  1.6894273 ],\n",
       "       [ 4.03608869,  1.83390521],\n",
       "       [ 4.15433165,  1.64063663],\n",
       "       [ 4.21348446,  2.58941754],\n",
       "       [ 3.66260737,  2.01057907],\n",
       "       [ 3.53976575,  1.79008235],\n",
       "       [ 4.38330305,  2.06419397],\n",
       "       [ 4.0996942 ,  1.96630159],\n",
       "       [ 3.77545404,  1.93370912],\n",
       "       [ 4.46534559,  2.18425001],\n",
       "       [ 4.03470239,  2.22725231],\n",
       "       [ 4.35378916,  1.84084966],\n",
       "       [ 4.02025554,  1.82725453],\n",
       "       [ 4.61822438,  1.91748449],\n",
       "       [ 4.52660225,  1.30942365],\n",
       "       [ 3.92531076,  1.54544268],\n",
       "       [ 4.29147129,  2.41006228],\n",
       "       [ 4.19361278,  2.49349031],\n",
       "       [ 4.41058947,  1.92528919],\n",
       "       [ 3.71052296,  2.17296709],\n",
       "       [ 4.20581544,  2.09337505],\n",
       "       [ 4.31752735,  2.92366424],\n",
       "       [ 3.47237815,  2.33587247],\n",
       "       [ 3.64502245,  1.96162472],\n",
       "       [ 3.38823035,  1.71333787],\n",
       "       [ 3.91917795,  1.5180661 ],\n",
       "       [ 4.21526268,  2.06103909],\n",
       "       [ 4.45070712,  1.77309478],\n",
       "       [ 4.02222843,  1.57332389],\n",
       "       [ 4.48858466,  1.80602813],\n",
       "       [ 3.58596956,  1.6755356 ],\n",
       "       [ 2.50614249,  4.30188784],\n",
       "       [ 2.26449193,  3.82693244],\n",
       "       [ 1.99760821,  4.25070763],\n",
       "       [ 2.44398324,  3.66108794],\n",
       "       [ 2.02321049,  4.15894125],\n",
       "       [ 1.74161474,  4.43247059],\n",
       "       [ 2.45693722,  3.25850665],\n",
       "       [ 2.16167301,  3.76093142],\n",
       "       [ 1.68882615,  4.17312164],\n",
       "       [ 1.9428984 ,  3.93908638],\n",
       "       [ 1.73731452,  4.11134376],\n",
       "       [ 1.58516008,  3.81880444],\n",
       "       [ 2.27785326,  4.02597694],\n",
       "       [ 2.57282499,  3.95329683],\n",
       "       [ 1.58042973,  4.35033462],\n",
       "       [ 2.16889077,  4.07632625],\n",
       "       [ 1.80480723,  4.1012808 ],\n",
       "       [ 1.85386238,  3.87643691],\n",
       "       [ 1.82228182,  3.85371813],\n",
       "       [ 1.74080277,  3.87023254],\n",
       "       [ 2.01455649,  4.11833564],\n",
       "       [ 1.75071497,  3.87370466],\n",
       "       [ 2.08113705,  4.08693246],\n",
       "       [ 1.98492857,  4.62262024],\n",
       "       [ 1.92831559,  4.26133741],\n",
       "       [ 1.7277309 ,  3.90219294],\n",
       "       [ 1.8269686 ,  4.36036418],\n",
       "       [ 2.22661737,  3.87757739],\n",
       "       [ 2.15027516,  3.38856264],\n",
       "       [ 1.70673343,  3.69757411],\n",
       "       [ 2.02979969,  3.43876242],\n",
       "       [ 2.22541614,  3.89454595],\n",
       "       [ 1.49917842,  4.00552551],\n",
       "       [ 2.16300806,  4.50293119],\n",
       "       [ 1.80121287,  4.09807821],\n",
       "       [ 2.1711796 ,  3.93426984],\n",
       "       [ 1.77102225,  4.24882167],\n",
       "       [ 1.45853537,  3.33665941],\n",
       "       [ 1.51173727,  4.07068437],\n",
       "       [ 2.01442548,  4.23125956],\n",
       "       [ 2.07791675,  3.55642413],\n",
       "       [ 1.72870501,  4.34312621],\n",
       "       [ 2.19157774,  4.10154892],\n",
       "       [ 1.50154398,  3.87541363],\n",
       "       [ 1.98017606,  4.18983456],\n",
       "       [ 1.63669514,  4.68120786],\n",
       "       [ 1.80444917,  4.05455988],\n",
       "       [ 2.0142196 ,  4.07446618],\n",
       "       [ 1.74187599,  3.86219173],\n",
       "       [ 1.88463334,  3.74504669]])"
      ]
     },
     "execution_count": 59,
     "metadata": {},
     "output_type": "execute_result"
    }
   ],
   "source": [
    "X_2"
   ]
  },
  {
   "cell_type": "code",
   "execution_count": null,
   "id": "61f793a8-5ea2-4454-8623-d3edc3c7c007",
   "metadata": {},
   "outputs": [],
   "source": []
  }
 ],
 "metadata": {
  "kernelspec": {
   "display_name": "Python 3 (ipykernel)",
   "language": "python",
   "name": "python3"
  },
  "language_info": {
   "codemirror_mode": {
    "name": "ipython",
    "version": 3
   },
   "file_extension": ".py",
   "mimetype": "text/x-python",
   "name": "python",
   "nbconvert_exporter": "python",
   "pygments_lexer": "ipython3",
   "version": "3.12.3"
  }
 },
 "nbformat": 4,
 "nbformat_minor": 5
}
