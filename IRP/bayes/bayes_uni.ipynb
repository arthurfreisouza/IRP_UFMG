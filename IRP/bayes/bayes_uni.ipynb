{
 "cells": [
  {
   "cell_type": "code",
   "execution_count": 118,
   "id": "ed56143f-36ae-490e-92a4-f9e49a149c31",
   "metadata": {},
   "outputs": [],
   "source": [
    "import numpy as np\n",
    "import pandas as pd\n",
    "import matplotlib.pyplot as plt\n",
    "import math"
   ]
  },
  {
   "cell_type": "code",
   "execution_count": 142,
   "id": "5f669b84-5fb7-414b-846a-4b3a17a1b607",
   "metadata": {},
   "outputs": [],
   "source": [
    "import warnings\n",
    "\n",
    "with warnings.catch_warnings():\n",
    "    warnings.simplefilter(\"ignore\")\n",
    "    #plt.scatter(data_test[:, 0], np.ones_like(data_test[:, 0]), color='blue', marker='+', edgecolor='blue')\n"
   ]
  },
  {
   "cell_type": "code",
   "execution_count": 119,
   "id": "0ba7d0ea-2a7b-4b30-8599-32efcb84981e",
   "metadata": {},
   "outputs": [],
   "source": [
    "def plot_graphic(*args, gaussian: bool = False):\n",
    "    arr_c = [\"red\", \"blue\"]\n",
    "    c = 0\n",
    "    for xi in args:\n",
    "        # Scatter plot for each set of points\n",
    "        plt.scatter(x = xi, y = np.zeros(shape=(xi.shape[0],)), edgecolors = arr_c[c], facecolors = \"none\")\n",
    "        \n",
    "        if gaussian:\n",
    "            # Generate x values for Gaussian with correct step size\n",
    "            x_gauss = np.linspace(start = np.min(xi), stop = np.max(xi), num = xi.shape[0])\n",
    "            \n",
    "            # Plot Gaussian line with individual color for each xi\n",
    "            plt.plot(x_gauss, gaussian_kernel_plot(x_gauss), color = arr_c[c])\n",
    "        \n",
    "        c += 1  # Move to the next color\n",
    "    \n",
    "    plt.xlabel(\"x1\")\n",
    "    plt.ylabel(\"y1\")\n",
    "    plt.show()"
   ]
  },
  {
   "cell_type": "code",
   "execution_count": null,
   "id": "04bdbc35-0d07-4ceb-b9e3-ff6008d4146c",
   "metadata": {},
   "outputs": [],
   "source": [
    "import numpy as np\n",
    "import matplotlib.pyplot as plt\n",
    "from scipy.stats import norm\n",
    "\n",
    "def plot_gaussian(mean, std):\n",
    "    # Generate x values from -4 to +4 standard deviations around the mean\n",
    "    x = np.linspace(mean - 4*std, mean + 4*std, 1000)\n",
    "    \n",
    "    # Calculate the y values of the Gaussian using the PDF\n",
    "    y = norm.pdf(x, mean, std)\n",
    "    \n",
    "    # Plot the Gaussian distribution\n",
    "    plt.plot(x, y, label=f\"Mean = {mean}, Std Dev = {std}\")\n",
    "    plt.xlabel(\"x\")\n",
    "    plt.ylabel(\"Probability Density\")\n",
    "    plt.title(\"Gaussian Distribution\")\n",
    "    plt.legend()\n",
    "    plt.grid()\n",
    "    plt.show()\n",
    "\n",
    "# Example: Mean of 0 and standard deviation of 1\n",
    "plot_gaussian(0, 1)\n",
    "x1 = create_sample(size = 240, sdv = 0.8, displacement = (2,))\n",
    "x2 = create_sample(size = 120, sdv = 0.4, displacement = (4,))"
   ]
  },
  {
   "cell_type": "code",
   "execution_count": 156,
   "id": "389ff4c7-9244-46ad-b9fe-7eb108908b9f",
   "metadata": {},
   "outputs": [],
   "source": [
    "# Bayesian classifier function\n",
    "def bayes(X_train, y_train, X_test):\n",
    "    labels, counts = np.unique(y_train, return_counts=True)\n",
    "    \n",
    "    # Calculate prior probabilities\n",
    "    for key, value in zip(labels, counts):\n",
    "        if int(key) == 1:   \n",
    "            pc1 = value / y_train.shape[0]  # P(C1)\n",
    "        else:\n",
    "            pc2 = value / y_train.shape[0]  # P(C2)\n",
    "    \n",
    "    # Separate training points by class\n",
    "    arr_pos = []\n",
    "    arr_neg = []\n",
    "    for i in range(len(y_train)):\n",
    "        if y_train[i] == 1:\n",
    "            arr_pos.append(X_train[i])\n",
    "        else:\n",
    "            arr_neg.append(X_train[i])\n",
    "    \n",
    "    # Convert to arrays for easier manipulation\n",
    "    arr_pos = np.array(arr_pos)\n",
    "    arr_neg = np.array(arr_neg)\n",
    "\n",
    "    predictions = []\n",
    "    for i in range(len(X_test)):\n",
    "        pos_density = np.mean([gaussian_kernel(X_test[i], xi) for xi in arr_pos])\n",
    "        neg_density = np.mean([gaussian_kernel(X_test[i], xi) for xi in arr_neg])\n",
    "\n",
    "        posterior_pos = pos_density * pc1\n",
    "        posterior_neg = neg_density * pc2\n",
    "\n",
    "        # Classify based on which posterior is higher\n",
    "        if posterior_pos > posterior_neg:\n",
    "            predictions.append(1)  # Predict class 1\n",
    "        else:\n",
    "            predictions.append(-1)  # Predict class 2\n",
    "\n",
    "    return np.array(predictions)  # Return predictions for all test points\n"
   ]
  },
  {
   "cell_type": "code",
   "execution_count": 122,
   "id": "8def718e-62ae-4cf9-b0b4-7fbc288682b1",
   "metadata": {},
   "outputs": [],
   "source": [
    "def gaussian_kernel(x, xi, bandwidth=1.0):\n",
    "    # Calculates the Gaussian kernel between x and xi with bandwidth parameter\n",
    "    return np.exp(-0.5 * ((x - xi) / bandwidth) ** 2) / (np.sqrt(2 * np.pi) * bandwidth)"
   ]
  },
  {
   "cell_type": "code",
   "execution_count": 123,
   "id": "ea502990-9e47-4b0d-8c4d-f0da3a2bd6d0",
   "metadata": {},
   "outputs": [],
   "source": [
    "def create_sample(size : int, sdv : float, displacement : np.ndarray = None):\n",
    "    return (np.random.normal(scale = sdv, size = (size,)) + displacement)"
   ]
  },
  {
   "cell_type": "code",
   "execution_count": 124,
   "id": "d43489a0-5927-4e0b-bc9e-9774a9267679",
   "metadata": {},
   "outputs": [],
   "source": [
    "def gaussian_kernel_plot(x):\n",
    "    return np.exp(-0.5 * (x - np.mean(x))**2 / np.std(x)**2) / math.sqrt(2 * math.pi)"
   ]
  },
  {
   "cell_type": "code",
   "execution_count": 125,
   "id": "d2ef2944-bf99-48d8-ba9f-da6c958b45bd",
   "metadata": {},
   "outputs": [],
   "source": [
    "x1 = create_sample(size = 240, sdv = 0.8, displacement = (2,))\n",
    "x2 = create_sample(size = 120, sdv = 0.4, displacement = (4,))"
   ]
  },
  {
   "cell_type": "code",
   "execution_count": 162,
   "id": "75cea864-f791-4681-bdd3-235910ad1d85",
   "metadata": {},
   "outputs": [
    {
     "data": {
      "image/png": "[encoded data removed]",
      "text/plain": [
       "<Figure size 640x480 with 1 Axes>"
      ]
     },
     "metadata": {},
     "output_type": "display_data"
    }
   ],
   "source": [
    "plot_graphic(x1, x2, gaussian = True)"
   ]
  },
  {
   "cell_type": "code",
   "execution_count": 127,
   "id": "941e03c6-39b5-48ac-8f2b-6ca6fea003b6",
   "metadata": {},
   "outputs": [
    {
     "name": "stdout",
     "output_type": "stream",
     "text": [
      "There are 240 samples of class 1 and 120 samples of class 2.\n"
     ]
    }
   ],
   "source": [
    "print(f\"There are {x1.shape[0]} samples of class 1 and {x2.shape[0]} samples of class 2.\")"
   ]
  },
  {
   "cell_type": "code",
   "execution_count": 128,
   "id": "7cb4e338-5cd7-4211-a47c-1fb596d132aa",
   "metadata": {},
   "outputs": [
    {
     "name": "stdout",
     "output_type": "stream",
     "text": [
      "[ 1.  1.  1.  1.  1.  1.  1.  1.  1.  1.  1.  1.  1.  1.  1. -1. -1. -1.\n",
      " -1. -1. -1. -1. -1. -1. -1. -1. -1. -1. -1. -1.]\n"
     ]
    }
   ],
   "source": [
    "l1 = np.ones(shape = (x1.shape[0],))\n",
    "l2 = -1*np.ones(shape = (x2.shape[0],))\n",
    "\n",
    "l = np.concatenate((l1, l2), axis = 0)\n",
    "\n",
    "print(np.concatenate((l[:15,],l[250 : 265,])))"
   ]
  },
  {
   "cell_type": "code",
   "execution_count": 129,
   "id": "f4d05283-1bcf-45b3-8eea-0e88a1f51548",
   "metadata": {},
   "outputs": [
    {
     "name": "stdout",
     "output_type": "stream",
     "text": [
      "In class -1.0 has 120 samples \n",
      "In class 1.0 has 240 samples \n"
     ]
    }
   ],
   "source": [
    "labels, counts = np.unique(l, return_counts = True)\n",
    "\n",
    "for key, value in zip(labels, counts):\n",
    "    print(f\"In class {key} has {value} samples \")"
   ]
  },
  {
   "cell_type": "code",
   "execution_count": 130,
   "id": "01b6d588-73ed-4122-b1a6-45f9c4883a31",
   "metadata": {},
   "outputs": [
    {
     "data": {
      "text/html": [
       "<div>\n",
       "<style scoped>\n",
       "    .dataframe tbody tr th:only-of-type {\n",
       "        vertical-align: middle;\n",
       "    }\n",
       "\n",
       "    .dataframe tbody tr th {\n",
       "        vertical-align: top;\n",
       "    }\n",
       "\n",
       "    .dataframe thead th {\n",
       "        text-align: right;\n",
       "    }\n",
       "</style>\n",
       "<table border=\"1\" class=\"dataframe\">\n",
       "  <thead>\n",
       "    <tr style=\"text-align: right;\">\n",
       "      <th></th>\n",
       "      <th>x</th>\n",
       "      <th>labels</th>\n",
       "    </tr>\n",
       "  </thead>\n",
       "  <tbody>\n",
       "    <tr>\n",
       "      <th>0</th>\n",
       "      <td>4.035413</td>\n",
       "      <td>1.0</td>\n",
       "    </tr>\n",
       "    <tr>\n",
       "      <th>1</th>\n",
       "      <td>0.920975</td>\n",
       "      <td>1.0</td>\n",
       "    </tr>\n",
       "    <tr>\n",
       "      <th>2</th>\n",
       "      <td>2.698958</td>\n",
       "      <td>1.0</td>\n",
       "    </tr>\n",
       "    <tr>\n",
       "      <th>3</th>\n",
       "      <td>1.341524</td>\n",
       "      <td>1.0</td>\n",
       "    </tr>\n",
       "    <tr>\n",
       "      <th>4</th>\n",
       "      <td>2.011290</td>\n",
       "      <td>1.0</td>\n",
       "    </tr>\n",
       "  </tbody>\n",
       "</table>\n",
       "</div>"
      ],
      "text/plain": [
       "          x  labels\n",
       "0  4.035413     1.0\n",
       "1  0.920975     1.0\n",
       "2  2.698958     1.0\n",
       "3  1.341524     1.0\n",
       "4  2.011290     1.0"
      ]
     },
     "execution_count": 130,
     "metadata": {},
     "output_type": "execute_result"
    }
   ],
   "source": [
    "x = np.concatenate((x1, x2), axis = 0)\n",
    "\n",
    "df = pd.DataFrame({\"x\" : x, \"labels\" : l})\n",
    "df.head()"
   ]
  },
  {
   "cell_type": "code",
   "execution_count": 131,
   "id": "8532aa61-9c2e-4e71-9883-873acce09618",
   "metadata": {},
   "outputs": [
    {
     "name": "stdout",
     "output_type": "stream",
     "text": [
      "[[ 4.21622429 -1.        ]\n",
      " [ 3.58873993 -1.        ]\n",
      " [ 3.98223279 -1.        ]\n",
      " [ 1.59550094  1.        ]\n",
      " [ 4.06144708 -1.        ]\n",
      " [ 2.45340037  1.        ]\n",
      " [ 1.77286988  1.        ]\n",
      " [ 3.16124814 -1.        ]\n",
      " [ 2.31684424  1.        ]\n",
      " [ 4.11623803 -1.        ]\n",
      " [ 2.56379876  1.        ]\n",
      " [ 2.58337432  1.        ]\n",
      " [ 4.08412611  1.        ]\n",
      " [ 4.02244666 -1.        ]\n",
      " [ 1.1463889   1.        ]\n",
      " [ 2.9871742   1.        ]\n",
      " [ 1.55822628  1.        ]\n",
      " [ 3.93290606 -1.        ]\n",
      " [ 1.7381751   1.        ]\n",
      " [ 3.48525844 -1.        ]\n",
      " [ 3.59298531 -1.        ]\n",
      " [ 2.90752622  1.        ]\n",
      " [ 1.60421477  1.        ]\n",
      " [ 1.97719685  1.        ]\n",
      " [ 4.01428642 -1.        ]\n",
      " [ 2.80027185  1.        ]\n",
      " [ 2.34876973  1.        ]\n",
      " [ 2.69709429  1.        ]\n",
      " [ 1.42664949  1.        ]\n",
      " [ 2.76784545  1.        ]]\n"
     ]
    }
   ],
   "source": [
    "data = np.array(df.sample(frac = 1).reset_index(drop = True))\n",
    "print(np.concatenate((data[:15,], data[250 : 265,])))"
   ]
  },
  {
   "cell_type": "code",
   "execution_count": 132,
   "id": "3abe6f54-30dd-4507-b0af-cfbcd288b881",
   "metadata": {},
   "outputs": [],
   "source": [
    "from sklearn.model_selection import train_test_split\n",
    "\n",
    "X_train, X_test, y_train, y_test = train_test_split(data[:, 0], data[:, 1], test_size = 0.1)"
   ]
  },
  {
   "cell_type": "code",
   "execution_count": 133,
   "id": "0be88c1f-e5ce-4e8b-a0a7-8c18c945350c",
   "metadata": {},
   "outputs": [],
   "source": [
    "pred = bayes(X_train, y_train, X_test)"
   ]
  },
  {
   "cell_type": "code",
   "execution_count": 134,
   "id": "89ee6cda-22a3-4d22-82b1-79a523815128",
   "metadata": {},
   "outputs": [
    {
     "data": {
      "image/png": "[encoded data removed]",
      "text/plain": [
       "<Figure size 640x480 with 2 Axes>"
      ]
     },
     "metadata": {},
     "output_type": "display_data"
    }
   ],
   "source": [
    "        from sklearn.metrics import confusion_matrix, ConfusionMatrixDisplay\n",
    "        cm = confusion_matrix(y_test, pred)\n",
    "        display = ConfusionMatrixDisplay(confusion_matrix = cm)\n",
    "        display.plot()\n",
    "        plt.show()"
   ]
  },
  {
   "cell_type": "code",
   "execution_count": 135,
   "id": "afa26754-a5f4-42d2-89b0-f7e6592ef17c",
   "metadata": {},
   "outputs": [
    {
     "data": {
      "text/plain": [
       "(36,)"
      ]
     },
     "execution_count": 135,
     "metadata": {},
     "output_type": "execute_result"
    }
   ],
   "source": [
    "X_test.shape"
   ]
  },
  {
   "cell_type": "code",
   "execution_count": 136,
   "id": "81cc5acf-8013-4734-b8dc-35ff89dfb055",
   "metadata": {},
   "outputs": [
    {
     "data": {
      "text/plain": [
       "(324,)"
      ]
     },
     "execution_count": 136,
     "metadata": {},
     "output_type": "execute_result"
    }
   ],
   "source": [
    "X_train.shape"
   ]
  },
  {
   "cell_type": "code",
   "execution_count": 137,
   "id": "47a5a60d-8657-4b74-8161-30ad17f3fb7e",
   "metadata": {},
   "outputs": [
    {
     "data": {
      "text/plain": [
       "((324,), (324,))"
      ]
     },
     "execution_count": 137,
     "metadata": {},
     "output_type": "execute_result"
    }
   ],
   "source": [
    "X_train.shape, y_train.shape"
   ]
  },
  {
   "cell_type": "code",
   "execution_count": 145,
   "id": "c17c4ee4-02b4-4fb5-857a-3d4a1f13061d",
   "metadata": {},
   "outputs": [
    {
     "data": {
      "text/plain": [
       "array([-1.,  1., -1., -1.,  1.,  1., -1.,  1.,  1.,  1.,  1.,  1., -1.,\n",
       "        1.,  1.,  1., -1., -1.,  1.,  1.,  1.,  1.,  1., -1.,  1.,  1.,\n",
       "       -1.,  1.,  1., -1., -1., -1., -1.,  1., -1., -1.])"
      ]
     },
     "execution_count": 145,
     "metadata": {},
     "output_type": "execute_result"
    }
   ],
   "source": [
    "y_test"
   ]
  },
  {
   "cell_type": "code",
   "execution_count": 146,
   "id": "d7d68be3-f9af-415a-9b17-3583a95c87fb",
   "metadata": {},
   "outputs": [
    {
     "data": {
      "text/plain": [
       "array([ 1., -1.,  1.,  1.,  1., -1., -1., -1.,  1.,  1.,  1.,  1.,  1.,\n",
       "        1., -1., -1.,  1.,  1., -1., -1., -1.,  1.,  1., -1.,  1.,  1.,\n",
       "       -1.,  1.,  1., -1., -1.,  1., -1., -1.,  1.,  1.,  1.,  1.,  1.,\n",
       "       -1., -1.,  1., -1., -1., -1.,  1.,  1.,  1.,  1.,  1.,  1.,  1.,\n",
       "        1.,  1., -1., -1., -1., -1., -1.,  1.,  1., -1., -1., -1.,  1.,\n",
       "       -1., -1., -1., -1.,  1.,  1.,  1.,  1.,  1.,  1.,  1.,  1.,  1.,\n",
       "        1.,  1.,  1.,  1.,  1., -1.,  1.,  1.,  1.,  1., -1.,  1.,  1.,\n",
       "        1., -1.,  1.,  1.,  1.,  1.,  1., -1., -1.,  1.,  1.,  1.,  1.,\n",
       "        1., -1.,  1.,  1.,  1.,  1.,  1., -1.,  1.,  1.,  1.,  1.,  1.,\n",
       "        1., -1.,  1.,  1., -1.,  1.,  1.,  1.,  1.,  1.,  1.,  1.,  1.,\n",
       "        1., -1.,  1.,  1., -1.,  1., -1., -1.,  1.,  1.,  1.,  1.,  1.,\n",
       "       -1.,  1., -1., -1.,  1.,  1.,  1.,  1.,  1.,  1.,  1.,  1.,  1.,\n",
       "        1.,  1.,  1.,  1., -1.,  1., -1.,  1.,  1.,  1., -1., -1.,  1.,\n",
       "       -1., -1., -1.,  1.,  1.,  1.,  1.,  1.,  1.,  1., -1., -1.,  1.,\n",
       "        1., -1.,  1., -1.,  1., -1.,  1., -1., -1.,  1.,  1., -1.,  1.,\n",
       "        1.,  1.,  1.,  1., -1.,  1.,  1.,  1.,  1., -1., -1.,  1.,  1.,\n",
       "        1., -1.,  1.,  1.,  1., -1.,  1.,  1.,  1.,  1., -1., -1.,  1.,\n",
       "        1., -1., -1., -1.,  1.,  1.,  1., -1., -1.,  1., -1.,  1.,  1.,\n",
       "        1.,  1.,  1.,  1.,  1.,  1.,  1.,  1., -1.,  1.,  1., -1., -1.,\n",
       "        1.,  1., -1., -1.,  1., -1., -1.,  1.,  1.,  1.,  1.,  1., -1.,\n",
       "        1.,  1.,  1.,  1.,  1.,  1.,  1.,  1., -1.,  1., -1.,  1.,  1.,\n",
       "       -1.,  1., -1.,  1., -1.,  1.,  1.,  1., -1.,  1., -1.,  1.,  1.,\n",
       "       -1.,  1., -1.,  1.,  1.,  1.,  1.,  1.,  1.,  1.,  1.,  1., -1.,\n",
       "       -1., -1., -1.,  1.,  1.,  1., -1., -1., -1.,  1., -1.,  1.,  1.,\n",
       "        1., -1.,  1.,  1.,  1., -1., -1.,  1., -1.,  1.,  1.,  1.])"
      ]
     },
     "execution_count": 146,
     "metadata": {},
     "output_type": "execute_result"
    }
   ],
   "source": [
    "y_train"
   ]
  },
  {
   "cell_type": "code",
   "execution_count": 160,
   "id": "5076d442-284b-472b-ab7b-fa88f4be4716",
   "metadata": {},
   "outputs": [
    {
     "data": {
      "image/png": "[encoded data removed]",
      "text/plain": [
       "<Figure size 640x480 with 1 Axes>"
      ]
     },
     "metadata": {},
     "output_type": "display_data"
    }
   ],
   "source": [
    "plot_train = np.concatenate((X_train.reshape(-1, 1), y_train.reshape(-1, 1)), axis = 1)\n",
    "plot_test = np.concatenate((X_test.reshape(-1, 1), y_test.reshape(-1, 1)), axis = 1)\n",
    "\n",
    "plot_dados_train_test(plot_train, plot_test)"
   ]
  }
 ],
 "metadata": {
  "kernelspec": {
   "display_name": "Python 3 (ipykernel)",
   "language": "python",
   "name": "python3"
  },
  "language_info": {
   "codemirror_mode": {
    "name": "ipython",
    "version": 3
   },
   "file_extension": ".py",
   "mimetype": "text/x-python",
   "name": "python",
   "nbconvert_exporter": "python",
   "pygments_lexer": "ipython3",
   "version": "3.12.3"
  }
 },
 "nbformat": 4,
 "nbformat_minor": 5
}
